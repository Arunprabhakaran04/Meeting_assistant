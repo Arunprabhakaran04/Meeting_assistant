{
  "nbformat": 4,
  "nbformat_minor": 0,
    "kernelspec": {
      "name": "python3",
      "display_name": "Python 3"
    },
    "language_info": {
      "name": "python"
    },
    "widgets": {
      "application/vnd.jupyter.widget-state+json": {
        "f0c64468ce3d429aa6cbc34a1ec78405": {
          "model_module": "@jupyter-widgets/controls",
          "model_name": "HBoxModel",
          "model_module_version": "1.5.0",
          "state": {
            "_dom_classes": [],
            "_model_module": "@jupyter-widgets/controls",
            "_model_module_version": "1.5.0",
            "_model_name": "HBoxModel",
            "_view_count": null,
            "_view_module": "@jupyter-widgets/controls",
            "_view_module_version": "1.5.0",
            "_view_name": "HBoxView",
            "box_style": "",
            "children": [
              "IPY_MODEL_09ed3a20c96e41d888162d27d1db5e65",
              "IPY_MODEL_02e078396fc14b84955d8e9f67b92abe",
              "IPY_MODEL_57b8b0c6c4fd46edb754f328dcdedb64"
            ],
            "layout": "IPY_MODEL_459db5ef7d1544da87c371f07cbb9b56"
          }
        },
        "09ed3a20c96e41d888162d27d1db5e65": {
          "model_module": "@jupyter-widgets/controls",
          "model_name": "HTMLModel",
          "model_module_version": "1.5.0",
          "state": {
            "_dom_classes": [],
            "_model_module": "@jupyter-widgets/controls",
            "_model_module_version": "1.5.0",
            "_model_name": "HTMLModel",
            "_view_count": null,
            "_view_module": "@jupyter-widgets/controls",
            "_view_module_version": "1.5.0",
            "_view_name": "HTMLView",
            "description": "",
            "description_tooltip": null,
            "layout": "IPY_MODEL_c2fce937b6a741f5ab3c680250db4216",
            "placeholder": "​",
            "style": "IPY_MODEL_6c1d7b47ede146d9a80a6cf5937a024d",
            "value": "modules.json: 100%"
          }
        },
        "02e078396fc14b84955d8e9f67b92abe": {
          "model_module": "@jupyter-widgets/controls",
          "model_name": "FloatProgressModel",
          "model_module_version": "1.5.0",
          "state": {
            "_dom_classes": [],
            "_model_module": "@jupyter-widgets/controls",
            "_model_module_version": "1.5.0",
            "_model_name": "FloatProgressModel",
            "_view_count": null,
            "_view_module": "@jupyter-widgets/controls",
            "_view_module_version": "1.5.0",
            "_view_name": "ProgressView",
            "bar_style": "success",
            "description": "",
            "description_tooltip": null,
            "layout": "IPY_MODEL_39417b135f4b4e2890419a52a0374671",
            "max": 349,
            "min": 0,
            "orientation": "horizontal",
            "style": "IPY_MODEL_08f1aac831bc43ba8700b20e8d15fccb",
            "value": 349
          }
        },
        "57b8b0c6c4fd46edb754f328dcdedb64": {
          "model_module": "@jupyter-widgets/controls",
          "model_name": "HTMLModel",
          "model_module_version": "1.5.0",
          "state": {
            "_dom_classes": [],
            "_model_module": "@jupyter-widgets/controls",
            "_model_module_version": "1.5.0",
            "_model_name": "HTMLModel",
            "_view_count": null,
            "_view_module": "@jupyter-widgets/controls",
            "_view_module_version": "1.5.0",
            "_view_name": "HTMLView",
            "description": "",
            "description_tooltip": null,
            "layout": "IPY_MODEL_7f4c90451af7425a96878b9c884abf4f",
            "placeholder": "​",
            "style": "IPY_MODEL_0c6e3071e0f349aeb7ef52367b399cef",
            "value": " 349/349 [00:00&lt;00:00, 12.2kB/s]"
          }
        },
        "459db5ef7d1544da87c371f07cbb9b56": {
          "model_module": "@jupyter-widgets/base",
          "model_name": "LayoutModel",
          "model_module_version": "1.2.0",
          "state": {
            "_model_module": "@jupyter-widgets/base",
            "_model_module_version": "1.2.0",
            "_model_name": "LayoutModel",
            "_view_count": null,
            "_view_module": "@jupyter-widgets/base",
            "_view_module_version": "1.2.0",
            "_view_name": "LayoutView",
            "align_content": null,
            "align_items": null,
            "align_self": null,
            "border": null,
            "bottom": null,
            "display": null,
            "flex": null,
            "flex_flow": null,
            "grid_area": null,
            "grid_auto_columns": null,
            "grid_auto_flow": null,
            "grid_auto_rows": null,
            "grid_column": null,
            "grid_gap": null,
            "grid_row": null,
            "grid_template_areas": null,
            "grid_template_columns": null,
            "grid_template_rows": null,
            "height": null,
            "justify_content": null,
            "justify_items": null,
            "left": null,
            "margin": null,
            "max_height": null,
            "max_width": null,
            "min_height": null,
            "min_width": null,
            "object_fit": null,
            "object_position": null,
            "order": null,
            "overflow": null,
            "overflow_x": null,
            "overflow_y": null,
            "padding": null,
            "right": null,
            "top": null,
            "visibility": null,
            "width": null
          }
        },
        "c2fce937b6a741f5ab3c680250db4216": {
          "model_module": "@jupyter-widgets/base",
          "model_name": "LayoutModel",
          "model_module_version": "1.2.0",
          "state": {
            "_model_module": "@jupyter-widgets/base",
            "_model_module_version": "1.2.0",
            "_model_name": "LayoutModel",
            "_view_count": null,
            "_view_module": "@jupyter-widgets/base",
            "_view_module_version": "1.2.0",
            "_view_name": "LayoutView",
            "align_content": null,
            "align_items": null,
            "align_self": null,
            "border": null,
            "bottom": null,
            "display": null,
            "flex": null,
            "flex_flow": null,
            "grid_area": null,
            "grid_auto_columns": null,
            "grid_auto_flow": null,
            "grid_auto_rows": null,
            "grid_column": null,
            "grid_gap": null,
            "grid_row": null,
            "grid_template_areas": null,
            "grid_template_columns": null,
            "grid_template_rows": null,
            "height": null,
            "justify_content": null,
            "justify_items": null,
            "left": null,
            "margin": null,
            "max_height": null,
            "max_width": null,
            "min_height": null,
            "min_width": null,
            "object_fit": null,
            "object_position": null,
            "order": null,
            "overflow": null,
            "overflow_x": null,
            "overflow_y": null,
            "padding": null,
            "right": null,
            "top": null,
            "visibility": null,
            "width": null
          }
        },
        "6c1d7b47ede146d9a80a6cf5937a024d": {
          "model_module": "@jupyter-widgets/controls",
          "model_name": "DescriptionStyleModel",
          "model_module_version": "1.5.0",
          "state": {
            "_model_module": "@jupyter-widgets/controls",
            "_model_module_version": "1.5.0",
            "_model_name": "DescriptionStyleModel",
            "_view_count": null,
            "_view_module": "@jupyter-widgets/base",
            "_view_module_version": "1.2.0",
            "_view_name": "StyleView",
            "description_width": ""
          }
        },
        "39417b135f4b4e2890419a52a0374671": {
          "model_module": "@jupyter-widgets/base",
          "model_name": "LayoutModel",
          "model_module_version": "1.2.0",
          "state": {
            "_model_module": "@jupyter-widgets/base",
            "_model_module_version": "1.2.0",
            "_model_name": "LayoutModel",
            "_view_count": null,
            "_view_module": "@jupyter-widgets/base",
            "_view_module_version": "1.2.0",
            "_view_name": "LayoutView",
            "align_content": null,
            "align_items": null,
            "align_self": null,
            "border": null,
            "bottom": null,
            "display": null,
            "flex": null,
            "flex_flow": null,
            "grid_area": null,
            "grid_auto_columns": null,
            "grid_auto_flow": null,
            "grid_auto_rows": null,
            "grid_column": null,
            "grid_gap": null,
            "grid_row": null,
            "grid_template_areas": null,
            "grid_template_columns": null,
            "grid_template_rows": null,
            "height": null,
            "justify_content": null,
            "justify_items": null,
            "left": null,
            "margin": null,
            "max_height": null,
            "max_width": null,
            "min_height": null,
            "min_width": null,
            "object_fit": null,
            "object_position": null,
            "order": null,
            "overflow": null,
            "overflow_x": null,
            "overflow_y": null,
            "padding": null,
            "right": null,
            "top": null,
            "visibility": null,
            "width": null
          }
        },
        "08f1aac831bc43ba8700b20e8d15fccb": {
          "model_module": "@jupyter-widgets/controls",
          "model_name": "ProgressStyleModel",
          "model_module_version": "1.5.0",
          "state": {
            "_model_module": "@jupyter-widgets/controls",
            "_model_module_version": "1.5.0",
            "_model_name": "ProgressStyleModel",
            "_view_count": null,
            "_view_module": "@jupyter-widgets/base",
            "_view_module_version": "1.2.0",
            "_view_name": "StyleView",
            "bar_color": null,
            "description_width": ""
          }
        },
        "7f4c90451af7425a96878b9c884abf4f": {
          "model_module": "@jupyter-widgets/base",
          "model_name": "LayoutModel",
          "model_module_version": "1.2.0",
          "state": {
            "_model_module": "@jupyter-widgets/base",
            "_model_module_version": "1.2.0",
            "_model_name": "LayoutModel",
            "_view_count": null,
            "_view_module": "@jupyter-widgets/base",
            "_view_module_version": "1.2.0",
            "_view_name": "LayoutView",
            "align_content": null,
            "align_items": null,
            "align_self": null,
            "border": null,
            "bottom": null,
            "display": null,
            "flex": null,
            "flex_flow": null,
            "grid_area": null,
            "grid_auto_columns": null,
            "grid_auto_flow": null,
            "grid_auto_rows": null,
            "grid_column": null,
            "grid_gap": null,
            "grid_row": null,
            "grid_template_areas": null,
            "grid_template_columns": null,
            "grid_template_rows": null,
            "height": null,
            "justify_content": null,
            "justify_items": null,
            "left": null,
            "margin": null,
            "max_height": null,
            "max_width": null,
            "min_height": null,
            "min_width": null,
            "object_fit": null,
            "object_position": null,
            "order": null,
            "overflow": null,
            "overflow_x": null,
            "overflow_y": null,
            "padding": null,
            "right": null,
            "top": null,
            "visibility": null,
            "width": null
          }
        },
        "0c6e3071e0f349aeb7ef52367b399cef": {
          "model_module": "@jupyter-widgets/controls",
          "model_name": "DescriptionStyleModel",
          "model_module_version": "1.5.0",
          "state": {
            "_model_module": "@jupyter-widgets/controls",
            "_model_module_version": "1.5.0",
            "_model_name": "DescriptionStyleModel",
            "_view_count": null,
            "_view_module": "@jupyter-widgets/base",
            "_view_module_version": "1.2.0",
            "_view_name": "StyleView",
            "description_width": ""
          }
        },
        "749db456103e46d5b5695aa807de4256": {
          "model_module": "@jupyter-widgets/controls",
          "model_name": "HBoxModel",
          "model_module_version": "1.5.0",
          "state": {
            "_dom_classes": [],
            "_model_module": "@jupyter-widgets/controls",
            "_model_module_version": "1.5.0",
            "_model_name": "HBoxModel",
            "_view_count": null,
            "_view_module": "@jupyter-widgets/controls",
            "_view_module_version": "1.5.0",
            "_view_name": "HBoxView",
            "box_style": "",
            "children": [
              "IPY_MODEL_16689b643764468daa757add66316104",
              "IPY_MODEL_6497812851814474a8be3e92c343f88f",
              "IPY_MODEL_e82ba1c45162499185c2ab3455e49f16"
            ],
            "layout": "IPY_MODEL_2c37be53bedd4dad9de0907d06c0c731"
          }
        },
        "16689b643764468daa757add66316104": {
          "model_module": "@jupyter-widgets/controls",
          "model_name": "HTMLModel",
          "model_module_version": "1.5.0",
          "state": {
            "_dom_classes": [],
            "_model_module": "@jupyter-widgets/controls",
            "_model_module_version": "1.5.0",
            "_model_name": "HTMLModel",
            "_view_count": null,
            "_view_module": "@jupyter-widgets/controls",
            "_view_module_version": "1.5.0",
            "_view_name": "HTMLView",
            "description": "",
            "description_tooltip": null,
            "layout": "IPY_MODEL_94ec94e5bfc840fba26afd62ef67865c",
            "placeholder": "​",
            "style": "IPY_MODEL_dda00a576c034a78950667697b546ac0",
            "value": "config_sentence_transformers.json: 100%"
          }
        },
        "6497812851814474a8be3e92c343f88f": {
          "model_module": "@jupyter-widgets/controls",
          "model_name": "FloatProgressModel",
          "model_module_version": "1.5.0",
          "state": {
            "_dom_classes": [],
            "_model_module": "@jupyter-widgets/controls",
            "_model_module_version": "1.5.0",
            "_model_name": "FloatProgressModel",
            "_view_count": null,
            "_view_module": "@jupyter-widgets/controls",
            "_view_module_version": "1.5.0",
            "_view_name": "ProgressView",
            "bar_style": "success",
            "description": "",
            "description_tooltip": null,
            "layout": "IPY_MODEL_adbd9fa8832447c2b7ed8f7895086961",
            "max": 124,
            "min": 0,
            "orientation": "horizontal",
            "style": "IPY_MODEL_ec366aab3e7c43208c9bf9f7522d199e",
            "value": 124
          }
        },
        "e82ba1c45162499185c2ab3455e49f16": {
          "model_module": "@jupyter-widgets/controls",
          "model_name": "HTMLModel",
          "model_module_version": "1.5.0",
          "state": {
            "_dom_classes": [],
            "_model_module": "@jupyter-widgets/controls",
            "_model_module_version": "1.5.0",
            "_model_name": "HTMLModel",
            "_view_count": null,
            "_view_module": "@jupyter-widgets/controls",
            "_view_module_version": "1.5.0",
            "_view_name": "HTMLView",
            "description": "",
            "description_tooltip": null,
            "layout": "IPY_MODEL_ae568777eb3d4e82962a2180a0a00a2a",
            "placeholder": "​",
            "style": "IPY_MODEL_7d9d490c431643778cf74034ce9a69a0",
            "value": " 124/124 [00:00&lt;00:00, 4.40kB/s]"
          }
        },
        "2c37be53bedd4dad9de0907d06c0c731": {
          "model_module": "@jupyter-widgets/base",
          "model_name": "LayoutModel",
          "model_module_version": "1.2.0",
          "state": {
            "_model_module": "@jupyter-widgets/base",
            "_model_module_version": "1.2.0",
            "_model_name": "LayoutModel",
            "_view_count": null,
            "_view_module": "@jupyter-widgets/base",
            "_view_module_version": "1.2.0",
            "_view_name": "LayoutView",
            "align_content": null,
            "align_items": null,
            "align_self": null,
            "border": null,
            "bottom": null,
            "display": null,
            "flex": null,
            "flex_flow": null,
            "grid_area": null,
            "grid_auto_columns": null,
            "grid_auto_flow": null,
            "grid_auto_rows": null,
            "grid_column": null,
            "grid_gap": null,
            "grid_row": null,
            "grid_template_areas": null,
            "grid_template_columns": null,
            "grid_template_rows": null,
            "height": null,
            "justify_content": null,
            "justify_items": null,
            "left": null,
            "margin": null,
            "max_height": null,
            "max_width": null,
            "min_height": null,
            "min_width": null,
            "object_fit": null,
            "object_position": null,
            "order": null,
            "overflow": null,
            "overflow_x": null,
            "overflow_y": null,
            "padding": null,
            "right": null,
            "top": null,
            "visibility": null,
            "width": null
          }
        },
        "94ec94e5bfc840fba26afd62ef67865c": {
          "model_module": "@jupyter-widgets/base",
          "model_name": "LayoutModel",
          "model_module_version": "1.2.0",
          "state": {
            "_model_module": "@jupyter-widgets/base",
            "_model_module_version": "1.2.0",
            "_model_name": "LayoutModel",
            "_view_count": null,
            "_view_module": "@jupyter-widgets/base",
            "_view_module_version": "1.2.0",
            "_view_name": "LayoutView",
            "align_content": null,
            "align_items": null,
            "align_self": null,
            "border": null,
            "bottom": null,
            "display": null,
            "flex": null,
            "flex_flow": null,
            "grid_area": null,
            "grid_auto_columns": null,
            "grid_auto_flow": null,
            "grid_auto_rows": null,
            "grid_column": null,
            "grid_gap": null,
            "grid_row": null,
            "grid_template_areas": null,
            "grid_template_columns": null,
            "grid_template_rows": null,
            "height": null,
            "justify_content": null,
            "justify_items": null,
            "left": null,
            "margin": null,
            "max_height": null,
            "max_width": null,
            "min_height": null,
            "min_width": null,
            "object_fit": null,
            "object_position": null,
            "order": null,
            "overflow": null,
            "overflow_x": null,
            "overflow_y": null,
            "padding": null,
            "right": null,
            "top": null,
            "visibility": null,
            "width": null
          }
        },
        "dda00a576c034a78950667697b546ac0": {
          "model_module": "@jupyter-widgets/controls",
          "model_name": "DescriptionStyleModel",
          "model_module_version": "1.5.0",
          "state": {
            "_model_module": "@jupyter-widgets/controls",
            "_model_module_version": "1.5.0",
            "_model_name": "DescriptionStyleModel",
            "_view_count": null,
            "_view_module": "@jupyter-widgets/base",
            "_view_module_version": "1.2.0",
            "_view_name": "StyleView",
            "description_width": ""
          }
        },
        "adbd9fa8832447c2b7ed8f7895086961": {
          "model_module": "@jupyter-widgets/base",
          "model_name": "LayoutModel",
          "model_module_version": "1.2.0",
          "state": {
            "_model_module": "@jupyter-widgets/base",
            "_model_module_version": "1.2.0",
            "_model_name": "LayoutModel",
            "_view_count": null,
            "_view_module": "@jupyter-widgets/base",
            "_view_module_version": "1.2.0",
            "_view_name": "LayoutView",
            "align_content": null,
            "align_items": null,
            "align_self": null,
            "border": null,
            "bottom": null,
            "display": null,
            "flex": null,
            "flex_flow": null,
            "grid_area": null,
            "grid_auto_columns": null,
            "grid_auto_flow": null,
            "grid_auto_rows": null,
            "grid_column": null,
            "grid_gap": null,
            "grid_row": null,
            "grid_template_areas": null,
            "grid_template_columns": null,
            "grid_template_rows": null,
            "height": null,
            "justify_content": null,
            "justify_items": null,
            "left": null,
            "margin": null,
            "max_height": null,
            "max_width": null,
            "min_height": null,
            "min_width": null,
            "object_fit": null,
            "object_position": null,
            "order": null,
            "overflow": null,
            "overflow_x": null,
            "overflow_y": null,
            "padding": null,
            "right": null,
            "top": null,
            "visibility": null,
            "width": null
          }
        },
        "ec366aab3e7c43208c9bf9f7522d199e": {
          "model_module": "@jupyter-widgets/controls",
          "model_name": "ProgressStyleModel",
          "model_module_version": "1.5.0",
          "state": {
            "_model_module": "@jupyter-widgets/controls",
            "_model_module_version": "1.5.0",
            "_model_name": "ProgressStyleModel",
            "_view_count": null,
            "_view_module": "@jupyter-widgets/base",
            "_view_module_version": "1.2.0",
            "_view_name": "StyleView",
            "bar_color": null,
            "description_width": ""
          }
        },
        "ae568777eb3d4e82962a2180a0a00a2a": {
          "model_module": "@jupyter-widgets/base",
          "model_name": "LayoutModel",
          "model_module_version": "1.2.0",
          "state": {
            "_model_module": "@jupyter-widgets/base",
            "_model_module_version": "1.2.0",
            "_model_name": "LayoutModel",
            "_view_count": null,
            "_view_module": "@jupyter-widgets/base",
            "_view_module_version": "1.2.0",
            "_view_name": "LayoutView",
            "align_content": null,
            "align_items": null,
            "align_self": null,
            "border": null,
            "bottom": null,
            "display": null,
            "flex": null,
            "flex_flow": null,
            "grid_area": null,
            "grid_auto_columns": null,
            "grid_auto_flow": null,
            "grid_auto_rows": null,
            "grid_column": null,
            "grid_gap": null,
            "grid_row": null,
            "grid_template_areas": null,
            "grid_template_columns": null,
            "grid_template_rows": null,
            "height": null,
            "justify_content": null,
            "justify_items": null,
            "left": null,
            "margin": null,
            "max_height": null,
            "max_width": null,
            "min_height": null,
            "min_width": null,
            "object_fit": null,
            "object_position": null,
            "order": null,
            "overflow": null,
            "overflow_x": null,
            "overflow_y": null,
            "padding": null,
            "right": null,
            "top": null,
            "visibility": null,
            "width": null
          }
        },
        "7d9d490c431643778cf74034ce9a69a0": {
          "model_module": "@jupyter-widgets/controls",
          "model_name": "DescriptionStyleModel",
          "model_module_version": "1.5.0",
          "state": {
            "_model_module": "@jupyter-widgets/controls",
            "_model_module_version": "1.5.0",
            "_model_name": "DescriptionStyleModel",
            "_view_count": null,
            "_view_module": "@jupyter-widgets/base",
            "_view_module_version": "1.2.0",
            "_view_name": "StyleView",
            "description_width": ""
          }
        },
        "da021945a98445d5b75c05288be399a1": {
          "model_module": "@jupyter-widgets/controls",
          "model_name": "HBoxModel",
          "model_module_version": "1.5.0",
          "state": {
            "_dom_classes": [],
            "_model_module": "@jupyter-widgets/controls",
            "_model_module_version": "1.5.0",
            "_model_name": "HBoxModel",
            "_view_count": null,
            "_view_module": "@jupyter-widgets/controls",
            "_view_module_version": "1.5.0",
            "_view_name": "HBoxView",
            "box_style": "",
            "children": [
              "IPY_MODEL_84b3261d51bd4abcb535954ee2a72dc6",
              "IPY_MODEL_f3273da0f9544b0fbf3eed2dc8ef83ad",
              "IPY_MODEL_c7bd244434ac41feb7e3a1b90dd67e91"
            ],
            "layout": "IPY_MODEL_5cd2439728164484a205d0efd925aefc"
          }
        },
        "84b3261d51bd4abcb535954ee2a72dc6": {
          "model_module": "@jupyter-widgets/controls",
          "model_name": "HTMLModel",
          "model_module_version": "1.5.0",
          "state": {
            "_dom_classes": [],
            "_model_module": "@jupyter-widgets/controls",
            "_model_module_version": "1.5.0",
            "_model_name": "HTMLModel",
            "_view_count": null,
            "_view_module": "@jupyter-widgets/controls",
            "_view_module_version": "1.5.0",
            "_view_name": "HTMLView",
            "description": "",
            "description_tooltip": null,
            "layout": "IPY_MODEL_eb1c96054b0040a1b8fdae776c72ef5f",
            "placeholder": "​",
            "style": "IPY_MODEL_31015ae0eddc4400aff012284fd2d87e",
            "value": "README.md: 100%"
          }
        },
        "f3273da0f9544b0fbf3eed2dc8ef83ad": {
          "model_module": "@jupyter-widgets/controls",
          "model_name": "FloatProgressModel",
          "model_module_version": "1.5.0",
          "state": {
            "_dom_classes": [],
            "_model_module": "@jupyter-widgets/controls",
            "_model_module_version": "1.5.0",
            "_model_name": "FloatProgressModel",
            "_view_count": null,
            "_view_module": "@jupyter-widgets/controls",
            "_view_module_version": "1.5.0",
            "_view_name": "ProgressView",
            "bar_style": "success",
            "description": "",
            "description_tooltip": null,
            "layout": "IPY_MODEL_5b7855542bd74fb184d9cbf5efa3ecf6",
            "max": 90797,
            "min": 0,
            "orientation": "horizontal",
            "style": "IPY_MODEL_dca036cba3c8413d80781ccaee8ea1ef",
            "value": 90797
          }
        },
        "c7bd244434ac41feb7e3a1b90dd67e91": {
          "model_module": "@jupyter-widgets/controls",
          "model_name": "HTMLModel",
          "model_module_version": "1.5.0",
          "state": {
            "_dom_classes": [],
            "_model_module": "@jupyter-widgets/controls",
            "_model_module_version": "1.5.0",
            "_model_name": "HTMLModel",
            "_view_count": null,
            "_view_module": "@jupyter-widgets/controls",
            "_view_module_version": "1.5.0",
            "_view_name": "HTMLView",
            "description": "",
            "description_tooltip": null,
            "layout": "IPY_MODEL_2c868ee034ca4cfdb8c2485423e4376c",
            "placeholder": "​",
            "style": "IPY_MODEL_1baa2fb3319b4ed0a11e778fd3657b94",
            "value": " 90.8k/90.8k [00:00&lt;00:00, 4.00MB/s]"
          }
        },
        "5cd2439728164484a205d0efd925aefc": {
          "model_module": "@jupyter-widgets/base",
          "model_name": "LayoutModel",
          "model_module_version": "1.2.0",
          "state": {
            "_model_module": "@jupyter-widgets/base",
            "_model_module_version": "1.2.0",
            "_model_name": "LayoutModel",
            "_view_count": null,
            "_view_module": "@jupyter-widgets/base",
            "_view_module_version": "1.2.0",
            "_view_name": "LayoutView",
            "align_content": null,
            "align_items": null,
            "align_self": null,
            "border": null,
            "bottom": null,
            "display": null,
            "flex": null,
            "flex_flow": null,
            "grid_area": null,
            "grid_auto_columns": null,
            "grid_auto_flow": null,
            "grid_auto_rows": null,
            "grid_column": null,
            "grid_gap": null,
            "grid_row": null,
            "grid_template_areas": null,
            "grid_template_columns": null,
            "grid_template_rows": null,
            "height": null,
            "justify_content": null,
            "justify_items": null,
            "left": null,
            "margin": null,
            "max_height": null,
            "max_width": null,
            "min_height": null,
            "min_width": null,
            "object_fit": null,
            "object_position": null,
            "order": null,
            "overflow": null,
            "overflow_x": null,
            "overflow_y": null,
            "padding": null,
            "right": null,
            "top": null,
            "visibility": null,
            "width": null
          }
        },
        "eb1c96054b0040a1b8fdae776c72ef5f": {
          "model_module": "@jupyter-widgets/base",
          "model_name": "LayoutModel",
          "model_module_version": "1.2.0",
          "state": {
            "_model_module": "@jupyter-widgets/base",
            "_model_module_version": "1.2.0",
            "_model_name": "LayoutModel",
            "_view_count": null,
            "_view_module": "@jupyter-widgets/base",
            "_view_module_version": "1.2.0",
            "_view_name": "LayoutView",
            "align_content": null,
            "align_items": null,
            "align_self": null,
            "border": null,
            "bottom": null,
            "display": null,
            "flex": null,
            "flex_flow": null,
            "grid_area": null,
            "grid_auto_columns": null,
            "grid_auto_flow": null,
            "grid_auto_rows": null,
            "grid_column": null,
            "grid_gap": null,
            "grid_row": null,
            "grid_template_areas": null,
            "grid_template_columns": null,
            "grid_template_rows": null,
            "height": null,
            "justify_content": null,
            "justify_items": null,
            "left": null,
            "margin": null,
            "max_height": null,
            "max_width": null,
            "min_height": null,
            "min_width": null,
            "object_fit": null,
            "object_position": null,
            "order": null,
            "overflow": null,
            "overflow_x": null,
            "overflow_y": null,
            "padding": null,
            "right": null,
            "top": null,
            "visibility": null,
            "width": null
          }
        },
        "31015ae0eddc4400aff012284fd2d87e": {
          "model_module": "@jupyter-widgets/controls",
          "model_name": "DescriptionStyleModel",
          "model_module_version": "1.5.0",
          "state": {
            "_model_module": "@jupyter-widgets/controls",
            "_model_module_version": "1.5.0",
            "_model_name": "DescriptionStyleModel",
            "_view_count": null,
            "_view_module": "@jupyter-widgets/base",
            "_view_module_version": "1.2.0",
            "_view_name": "StyleView",
            "description_width": ""
          }
        },
        "5b7855542bd74fb184d9cbf5efa3ecf6": {
          "model_module": "@jupyter-widgets/base",
          "model_name": "LayoutModel",
          "model_module_version": "1.2.0",
          "state": {
            "_model_module": "@jupyter-widgets/base",
            "_model_module_version": "1.2.0",
            "_model_name": "LayoutModel",
            "_view_count": null,
            "_view_module": "@jupyter-widgets/base",
            "_view_module_version": "1.2.0",
            "_view_name": "LayoutView",
            "align_content": null,
            "align_items": null,
            "align_self": null,
            "border": null,
            "bottom": null,
            "display": null,
            "flex": null,
            "flex_flow": null,
            "grid_area": null,
            "grid_auto_columns": null,
            "grid_auto_flow": null,
            "grid_auto_rows": null,
            "grid_column": null,
            "grid_gap": null,
            "grid_row": null,
            "grid_template_areas": null,
            "grid_template_columns": null,
            "grid_template_rows": null,
            "height": null,
            "justify_content": null,
            "justify_items": null,
            "left": null,
            "margin": null,
            "max_height": null,
            "max_width": null,
            "min_height": null,
            "min_width": null,
            "object_fit": null,
            "object_position": null,
            "order": null,
            "overflow": null,
            "overflow_x": null,
            "overflow_y": null,
            "padding": null,
            "right": null,
            "top": null,
            "visibility": null,
            "width": null
          }
        },
        "dca036cba3c8413d80781ccaee8ea1ef": {
          "model_module": "@jupyter-widgets/controls",
          "model_name": "ProgressStyleModel",
          "model_module_version": "1.5.0",
          "state": {
            "_model_module": "@jupyter-widgets/controls",
            "_model_module_version": "1.5.0",
            "_model_name": "ProgressStyleModel",
            "_view_count": null,
            "_view_module": "@jupyter-widgets/base",
            "_view_module_version": "1.2.0",
            "_view_name": "StyleView",
            "bar_color": null,
            "description_width": ""
          }
        },
        "2c868ee034ca4cfdb8c2485423e4376c": {
          "model_module": "@jupyter-widgets/base",
          "model_name": "LayoutModel",
          "model_module_version": "1.2.0",
          "state": {
            "_model_module": "@jupyter-widgets/base",
            "_model_module_version": "1.2.0",
            "_model_name": "LayoutModel",
            "_view_count": null,
            "_view_module": "@jupyter-widgets/base",
            "_view_module_version": "1.2.0",
            "_view_name": "LayoutView",
            "align_content": null,
            "align_items": null,
            "align_self": null,
            "border": null,
            "bottom": null,
            "display": null,
            "flex": null,
            "flex_flow": null,
            "grid_area": null,
            "grid_auto_columns": null,
            "grid_auto_flow": null,
            "grid_auto_rows": null,
            "grid_column": null,
            "grid_gap": null,
            "grid_row": null,
            "grid_template_areas": null,
            "grid_template_columns": null,
            "grid_template_rows": null,
            "height": null,
            "justify_content": null,
            "justify_items": null,
            "left": null,
            "margin": null,
            "max_height": null,
            "max_width": null,
            "min_height": null,
            "min_width": null,
            "object_fit": null,
            "object_position": null,
            "order": null,
            "overflow": null,
            "overflow_x": null,
            "overflow_y": null,
            "padding": null,
            "right": null,
            "top": null,
            "visibility": null,
            "width": null
          }
        },
        "1baa2fb3319b4ed0a11e778fd3657b94": {
          "model_module": "@jupyter-widgets/controls",
          "model_name": "DescriptionStyleModel",
          "model_module_version": "1.5.0",
          "state": {
            "_model_module": "@jupyter-widgets/controls",
            "_model_module_version": "1.5.0",
            "_model_name": "DescriptionStyleModel",
            "_view_count": null,
            "_view_module": "@jupyter-widgets/base",
            "_view_module_version": "1.2.0",
            "_view_name": "StyleView",
            "description_width": ""
          }
        },
        "172bcc0a21494285aa27df362bfc9d57": {
          "model_module": "@jupyter-widgets/controls",
          "model_name": "HBoxModel",
          "model_module_version": "1.5.0",
          "state": {
            "_dom_classes": [],
            "_model_module": "@jupyter-widgets/controls",
            "_model_module_version": "1.5.0",
            "_model_name": "HBoxModel",
            "_view_count": null,
            "_view_module": "@jupyter-widgets/controls",
            "_view_module_version": "1.5.0",
            "_view_name": "HBoxView",
            "box_style": "",
            "children": [
              "IPY_MODEL_3f45c61e53424e8099654b3501c563cf",
              "IPY_MODEL_f23c304af8af40f79761ab157f2d13a2",
              "IPY_MODEL_5dfba278cf2f4223b29f44da9346812f"
            ],
            "layout": "IPY_MODEL_75dcce66b5fd40d1bd8e73a136ddfbd3"
          }
        },
        "3f45c61e53424e8099654b3501c563cf": {
          "model_module": "@jupyter-widgets/controls",
          "model_name": "HTMLModel",
          "model_module_version": "1.5.0",
          "state": {
            "_dom_classes": [],
            "_model_module": "@jupyter-widgets/controls",
            "_model_module_version": "1.5.0",
            "_model_name": "HTMLModel",
            "_view_count": null,
            "_view_module": "@jupyter-widgets/controls",
            "_view_module_version": "1.5.0",
            "_view_name": "HTMLView",
            "description": "",
            "description_tooltip": null,
            "layout": "IPY_MODEL_668695657ad7493eb995e90a66e59277",
            "placeholder": "​",
            "style": "IPY_MODEL_680826f267024570b7521ec04a4a7e34",
            "value": "sentence_bert_config.json: 100%"
          }
        },
        "f23c304af8af40f79761ab157f2d13a2": {
          "model_module": "@jupyter-widgets/controls",
          "model_name": "FloatProgressModel",
          "model_module_version": "1.5.0",
          "state": {
            "_dom_classes": [],
            "_model_module": "@jupyter-widgets/controls",
            "_model_module_version": "1.5.0",
            "_model_name": "FloatProgressModel",
            "_view_count": null,
            "_view_module": "@jupyter-widgets/controls",
            "_view_module_version": "1.5.0",
            "_view_name": "ProgressView",
            "bar_style": "success",
            "description": "",
            "description_tooltip": null,
            "layout": "IPY_MODEL_558a695cd4d54616b0eb0981506b472f",
            "max": 52,
            "min": 0,
            "orientation": "horizontal",
            "style": "IPY_MODEL_20241dd3d0014f81a586f442e33e2cd7",
            "value": 52
          }
        },
        "5dfba278cf2f4223b29f44da9346812f": {
          "model_module": "@jupyter-widgets/controls",
          "model_name": "HTMLModel",
          "model_module_version": "1.5.0",
          "state": {
            "_dom_classes": [],
            "_model_module": "@jupyter-widgets/controls",
            "_model_module_version": "1.5.0",
            "_model_name": "HTMLModel",
            "_view_count": null,
            "_view_module": "@jupyter-widgets/controls",
            "_view_module_version": "1.5.0",
            "_view_name": "HTMLView",
            "description": "",
            "description_tooltip": null,
            "layout": "IPY_MODEL_abd8a9e939a6437f97f1eed50b98433b",
            "placeholder": "​",
            "style": "IPY_MODEL_140f2c30390f4d3196550beaf909f71c",
            "value": " 52.0/52.0 [00:00&lt;00:00, 2.14kB/s]"
          }
        },
        "75dcce66b5fd40d1bd8e73a136ddfbd3": {
          "model_module": "@jupyter-widgets/base",
          "model_name": "LayoutModel",
          "model_module_version": "1.2.0",
          "state": {
            "_model_module": "@jupyter-widgets/base",
            "_model_module_version": "1.2.0",
            "_model_name": "LayoutModel",
            "_view_count": null,
            "_view_module": "@jupyter-widgets/base",
            "_view_module_version": "1.2.0",
            "_view_name": "LayoutView",
            "align_content": null,
            "align_items": null,
            "align_self": null,
            "border": null,
            "bottom": null,
            "display": null,
            "flex": null,
            "flex_flow": null,
            "grid_area": null,
            "grid_auto_columns": null,
            "grid_auto_flow": null,
            "grid_auto_rows": null,
            "grid_column": null,
            "grid_gap": null,
            "grid_row": null,
            "grid_template_areas": null,
            "grid_template_columns": null,
            "grid_template_rows": null,
            "height": null,
            "justify_content": null,
            "justify_items": null,
            "left": null,
            "margin": null,
            "max_height": null,
            "max_width": null,
            "min_height": null,
            "min_width": null,
            "object_fit": null,
            "object_position": null,
            "order": null,
            "overflow": null,
            "overflow_x": null,
            "overflow_y": null,
            "padding": null,
            "right": null,
            "top": null,
            "visibility": null,
            "width": null
          }
        },
        "668695657ad7493eb995e90a66e59277": {
          "model_module": "@jupyter-widgets/base",
          "model_name": "LayoutModel",
          "model_module_version": "1.2.0",
          "state": {
            "_model_module": "@jupyter-widgets/base",
            "_model_module_version": "1.2.0",
            "_model_name": "LayoutModel",
            "_view_count": null,
            "_view_module": "@jupyter-widgets/base",
            "_view_module_version": "1.2.0",
            "_view_name": "LayoutView",
            "align_content": null,
            "align_items": null,
            "align_self": null,
            "border": null,
            "bottom": null,
            "display": null,
            "flex": null,
            "flex_flow": null,
            "grid_area": null,
            "grid_auto_columns": null,
            "grid_auto_flow": null,
            "grid_auto_rows": null,
            "grid_column": null,
            "grid_gap": null,
            "grid_row": null,
            "grid_template_areas": null,
            "grid_template_columns": null,
            "grid_template_rows": null,
            "height": null,
            "justify_content": null,
            "justify_items": null,
            "left": null,
            "margin": null,
            "max_height": null,
            "max_width": null,
            "min_height": null,
            "min_width": null,
            "object_fit": null,
            "object_position": null,
            "order": null,
            "overflow": null,
            "overflow_x": null,
            "overflow_y": null,
            "padding": null,
            "right": null,
            "top": null,
            "visibility": null,
            "width": null
          }
        },
        "680826f267024570b7521ec04a4a7e34": {
          "model_module": "@jupyter-widgets/controls",
          "model_name": "DescriptionStyleModel",
          "model_module_version": "1.5.0",
          "state": {
            "_model_module": "@jupyter-widgets/controls",
            "_model_module_version": "1.5.0",
            "_model_name": "DescriptionStyleModel",
            "_view_count": null,
            "_view_module": "@jupyter-widgets/base",
            "_view_module_version": "1.2.0",
            "_view_name": "StyleView",
            "description_width": ""
          }
        },
        "558a695cd4d54616b0eb0981506b472f": {
          "model_module": "@jupyter-widgets/base",
          "model_name": "LayoutModel",
          "model_module_version": "1.2.0",
          "state": {
            "_model_module": "@jupyter-widgets/base",
            "_model_module_version": "1.2.0",
            "_model_name": "LayoutModel",
            "_view_count": null,
            "_view_module": "@jupyter-widgets/base",
            "_view_module_version": "1.2.0",
            "_view_name": "LayoutView",
            "align_content": null,
            "align_items": null,
            "align_self": null,
            "border": null,
            "bottom": null,
            "display": null,
            "flex": null,
            "flex_flow": null,
            "grid_area": null,
            "grid_auto_columns": null,
            "grid_auto_flow": null,
            "grid_auto_rows": null,
            "grid_column": null,
            "grid_gap": null,
            "grid_row": null,
            "grid_template_areas": null,
            "grid_template_columns": null,
            "grid_template_rows": null,
            "height": null,
            "justify_content": null,
            "justify_items": null,
            "left": null,
            "margin": null,
            "max_height": null,
            "max_width": null,
            "min_height": null,
            "min_width": null,
            "object_fit": null,
            "object_position": null,
            "order": null,
            "overflow": null,
            "overflow_x": null,
            "overflow_y": null,
            "padding": null,
            "right": null,
            "top": null,
            "visibility": null,
            "width": null
          }
        },
        "20241dd3d0014f81a586f442e33e2cd7": {
          "model_module": "@jupyter-widgets/controls",
          "model_name": "ProgressStyleModel",
          "model_module_version": "1.5.0",
          "state": {
            "_model_module": "@jupyter-widgets/controls",
            "_model_module_version": "1.5.0",
            "_model_name": "ProgressStyleModel",
            "_view_count": null,
            "_view_module": "@jupyter-widgets/base",
            "_view_module_version": "1.2.0",
            "_view_name": "StyleView",
            "bar_color": null,
            "description_width": ""
          }
        },
        "abd8a9e939a6437f97f1eed50b98433b": {
          "model_module": "@jupyter-widgets/base",
          "model_name": "LayoutModel",
          "model_module_version": "1.2.0",
          "state": {
            "_model_module": "@jupyter-widgets/base",
            "_model_module_version": "1.2.0",
            "_model_name": "LayoutModel",
            "_view_count": null,
            "_view_module": "@jupyter-widgets/base",
            "_view_module_version": "1.2.0",
            "_view_name": "LayoutView",
            "align_content": null,
            "align_items": null,
            "align_self": null,
            "border": null,
            "bottom": null,
            "display": null,
            "flex": null,
            "flex_flow": null,
            "grid_area": null,
            "grid_auto_columns": null,
            "grid_auto_flow": null,
            "grid_auto_rows": null,
            "grid_column": null,
            "grid_gap": null,
            "grid_row": null,
            "grid_template_areas": null,
            "grid_template_columns": null,
            "grid_template_rows": null,
            "height": null,
            "justify_content": null,
            "justify_items": null,
            "left": null,
            "margin": null,
            "max_height": null,
            "max_width": null,
            "min_height": null,
            "min_width": null,
            "object_fit": null,
            "object_position": null,
            "order": null,
            "overflow": null,
            "overflow_x": null,
            "overflow_y": null,
            "padding": null,
            "right": null,
            "top": null,
            "visibility": null,
            "width": null
          }
        },
        "140f2c30390f4d3196550beaf909f71c": {
          "model_module": "@jupyter-widgets/controls",
          "model_name": "DescriptionStyleModel",
          "model_module_version": "1.5.0",
          "state": {
            "_model_module": "@jupyter-widgets/controls",
            "_model_module_version": "1.5.0",
            "_model_name": "DescriptionStyleModel",
            "_view_count": null,
            "_view_module": "@jupyter-widgets/base",
            "_view_module_version": "1.2.0",
            "_view_name": "StyleView",
            "description_width": ""
          }
        },
        "e2bb4d6139d74192b66a0f31e27c4806": {
          "model_module": "@jupyter-widgets/controls",
          "model_name": "HBoxModel",
          "model_module_version": "1.5.0",
          "state": {
            "_dom_classes": [],
            "_model_module": "@jupyter-widgets/controls",
            "_model_module_version": "1.5.0",
            "_model_name": "HBoxModel",
            "_view_count": null,
            "_view_module": "@jupyter-widgets/controls",
            "_view_module_version": "1.5.0",
            "_view_name": "HBoxView",
            "box_style": "",
            "children": [
              "IPY_MODEL_e2b1c5cd112243f78a05a6dd2246fd93",
              "IPY_MODEL_358d64b662664f8192a054940a3309b9",
              "IPY_MODEL_905708ea2215497584813fcc087dd970"
            ],
            "layout": "IPY_MODEL_777cb331f1b14904b168f8d0463cd948"
          }
        },
        "e2b1c5cd112243f78a05a6dd2246fd93": {
          "model_module": "@jupyter-widgets/controls",
          "model_name": "HTMLModel",
          "model_module_version": "1.5.0",
          "state": {
            "_dom_classes": [],
            "_model_module": "@jupyter-widgets/controls",
            "_model_module_version": "1.5.0",
            "_model_name": "HTMLModel",
            "_view_count": null,
            "_view_module": "@jupyter-widgets/controls",
            "_view_module_version": "1.5.0",
            "_view_name": "HTMLView",
            "description": "",
            "description_tooltip": null,
            "layout": "IPY_MODEL_fb484674dd4f4db48ef6ed2b29fcf282",
            "placeholder": "​",
            "style": "IPY_MODEL_43437868c6424031aca7572b1b98934d",
            "value": "config.json: 100%"
          }
        },
        "358d64b662664f8192a054940a3309b9": {
          "model_module": "@jupyter-widgets/controls",
          "model_name": "FloatProgressModel",
          "model_module_version": "1.5.0",
          "state": {
            "_dom_classes": [],
            "_model_module": "@jupyter-widgets/controls",
            "_model_module_version": "1.5.0",
            "_model_name": "FloatProgressModel",
            "_view_count": null,
            "_view_module": "@jupyter-widgets/controls",
            "_view_module_version": "1.5.0",
            "_view_name": "ProgressView",
            "bar_style": "success",
            "description": "",
            "description_tooltip": null,
            "layout": "IPY_MODEL_8d093064d25f459da71492d86d0cb2a5",
            "max": 684,
            "min": 0,
            "orientation": "horizontal",
            "style": "IPY_MODEL_10251615079f4df1bdb953e749e8f7f9",
            "value": 684
          }
        },
        "905708ea2215497584813fcc087dd970": {
          "model_module": "@jupyter-widgets/controls",
          "model_name": "HTMLModel",
          "model_module_version": "1.5.0",
          "state": {
            "_dom_classes": [],
            "_model_module": "@jupyter-widgets/controls",
            "_model_module_version": "1.5.0",
            "_model_name": "HTMLModel",
            "_view_count": null,
            "_view_module": "@jupyter-widgets/controls",
            "_view_module_version": "1.5.0",
            "_view_name": "HTMLView",
            "description": "",
            "description_tooltip": null,
            "layout": "IPY_MODEL_9edcb343fc7e49c49a4d768e7db921cc",
            "placeholder": "​",
            "style": "IPY_MODEL_1f0b8a4a374d4a339dfe047829508e63",
            "value": " 684/684 [00:00&lt;00:00, 42.7kB/s]"
          }
        },
        "777cb331f1b14904b168f8d0463cd948": {
          "model_module": "@jupyter-widgets/base",
          "model_name": "LayoutModel",
          "model_module_version": "1.2.0",
          "state": {
            "_model_module": "@jupyter-widgets/base",
            "_model_module_version": "1.2.0",
            "_model_name": "LayoutModel",
            "_view_count": null,
            "_view_module": "@jupyter-widgets/base",
            "_view_module_version": "1.2.0",
            "_view_name": "LayoutView",
            "align_content": null,
            "align_items": null,
            "align_self": null,
            "border": null,
            "bottom": null,
            "display": null,
            "flex": null,
            "flex_flow": null,
            "grid_area": null,
            "grid_auto_columns": null,
            "grid_auto_flow": null,
            "grid_auto_rows": null,
            "grid_column": null,
            "grid_gap": null,
            "grid_row": null,
            "grid_template_areas": null,
            "grid_template_columns": null,
            "grid_template_rows": null,
            "height": null,
            "justify_content": null,
            "justify_items": null,
            "left": null,
            "margin": null,
            "max_height": null,
            "max_width": null,
            "min_height": null,
            "min_width": null,
            "object_fit": null,
            "object_position": null,
            "order": null,
            "overflow": null,
            "overflow_x": null,
            "overflow_y": null,
            "padding": null,
            "right": null,
            "top": null,
            "visibility": null,
            "width": null
          }
        },
        "fb484674dd4f4db48ef6ed2b29fcf282": {
          "model_module": "@jupyter-widgets/base",
          "model_name": "LayoutModel",
          "model_module_version": "1.2.0",
          "state": {
            "_model_module": "@jupyter-widgets/base",
            "_model_module_version": "1.2.0",
            "_model_name": "LayoutModel",
            "_view_count": null,
            "_view_module": "@jupyter-widgets/base",
            "_view_module_version": "1.2.0",
            "_view_name": "LayoutView",
            "align_content": null,
            "align_items": null,
            "align_self": null,
            "border": null,
            "bottom": null,
            "display": null,
            "flex": null,
            "flex_flow": null,
            "grid_area": null,
            "grid_auto_columns": null,
            "grid_auto_flow": null,
            "grid_auto_rows": null,
            "grid_column": null,
            "grid_gap": null,
            "grid_row": null,
            "grid_template_areas": null,
            "grid_template_columns": null,
            "grid_template_rows": null,
            "height": null,
            "justify_content": null,
            "justify_items": null,
            "left": null,
            "margin": null,
            "max_height": null,
            "max_width": null,
            "min_height": null,
            "min_width": null,
            "object_fit": null,
            "object_position": null,
            "order": null,
            "overflow": null,
            "overflow_x": null,
            "overflow_y": null,
            "padding": null,
            "right": null,
            "top": null,
            "visibility": null,
            "width": null
          }
        },
        "43437868c6424031aca7572b1b98934d": {
          "model_module": "@jupyter-widgets/controls",
          "model_name": "DescriptionStyleModel",
          "model_module_version": "1.5.0",
          "state": {
            "_model_module": "@jupyter-widgets/controls",
            "_model_module_version": "1.5.0",
            "_model_name": "DescriptionStyleModel",
            "_view_count": null,
            "_view_module": "@jupyter-widgets/base",
            "_view_module_version": "1.2.0",
            "_view_name": "StyleView",
            "description_width": ""
          }
        },
        "8d093064d25f459da71492d86d0cb2a5": {
          "model_module": "@jupyter-widgets/base",
          "model_name": "LayoutModel",
          "model_module_version": "1.2.0",
          "state": {
            "_model_module": "@jupyter-widgets/base",
            "_model_module_version": "1.2.0",
            "_model_name": "LayoutModel",
            "_view_count": null,
            "_view_module": "@jupyter-widgets/base",
            "_view_module_version": "1.2.0",
            "_view_name": "LayoutView",
            "align_content": null,
            "align_items": null,
            "align_self": null,
            "border": null,
            "bottom": null,
            "display": null,
            "flex": null,
            "flex_flow": null,
            "grid_area": null,
            "grid_auto_columns": null,
            "grid_auto_flow": null,
            "grid_auto_rows": null,
            "grid_column": null,
            "grid_gap": null,
            "grid_row": null,
            "grid_template_areas": null,
            "grid_template_columns": null,
            "grid_template_rows": null,
            "height": null,
            "justify_content": null,
            "justify_items": null,
            "left": null,
            "margin": null,
            "max_height": null,
            "max_width": null,
            "min_height": null,
            "min_width": null,
            "object_fit": null,
            "object_position": null,
            "order": null,
            "overflow": null,
            "overflow_x": null,
            "overflow_y": null,
            "padding": null,
            "right": null,
            "top": null,
            "visibility": null,
            "width": null
          }
        },
        "10251615079f4df1bdb953e749e8f7f9": {
          "model_module": "@jupyter-widgets/controls",
          "model_name": "ProgressStyleModel",
          "model_module_version": "1.5.0",
          "state": {
            "_model_module": "@jupyter-widgets/controls",
            "_model_module_version": "1.5.0",
            "_model_name": "ProgressStyleModel",
            "_view_count": null,
            "_view_module": "@jupyter-widgets/base",
            "_view_module_version": "1.2.0",
            "_view_name": "StyleView",
            "bar_color": null,
            "description_width": ""
          }
        },
        "9edcb343fc7e49c49a4d768e7db921cc": {
          "model_module": "@jupyter-widgets/base",
          "model_name": "LayoutModel",
          "model_module_version": "1.2.0",
          "state": {
            "_model_module": "@jupyter-widgets/base",
            "_model_module_version": "1.2.0",
            "_model_name": "LayoutModel",
            "_view_count": null,
            "_view_module": "@jupyter-widgets/base",
            "_view_module_version": "1.2.0",
            "_view_name": "LayoutView",
            "align_content": null,
            "align_items": null,
            "align_self": null,
            "border": null,
            "bottom": null,
            "display": null,
            "flex": null,
            "flex_flow": null,
            "grid_area": null,
            "grid_auto_columns": null,
            "grid_auto_flow": null,
            "grid_auto_rows": null,
            "grid_column": null,
            "grid_gap": null,
            "grid_row": null,
            "grid_template_areas": null,
            "grid_template_columns": null,
            "grid_template_rows": null,
            "height": null,
            "justify_content": null,
            "justify_items": null,
            "left": null,
            "margin": null,
            "max_height": null,
            "max_width": null,
            "min_height": null,
            "min_width": null,
            "object_fit": null,
            "object_position": null,
            "order": null,
            "overflow": null,
            "overflow_x": null,
            "overflow_y": null,
            "padding": null,
            "right": null,
            "top": null,
            "visibility": null,
            "width": null
          }
        },
        "1f0b8a4a374d4a339dfe047829508e63": {
          "model_module": "@jupyter-widgets/controls",
          "model_name": "DescriptionStyleModel",
          "model_module_version": "1.5.0",
          "state": {
            "_model_module": "@jupyter-widgets/controls",
            "_model_module_version": "1.5.0",
            "_model_name": "DescriptionStyleModel",
            "_view_count": null,
            "_view_module": "@jupyter-widgets/base",
            "_view_module_version": "1.2.0",
            "_view_name": "StyleView",
            "description_width": ""
          }
        },
        "d01a23d553534a84a09510ace6d5a1ba": {
          "model_module": "@jupyter-widgets/controls",
          "model_name": "HBoxModel",
          "model_module_version": "1.5.0",
          "state": {
            "_dom_classes": [],
            "_model_module": "@jupyter-widgets/controls",
            "_model_module_version": "1.5.0",
            "_model_name": "HBoxModel",
            "_view_count": null,
            "_view_module": "@jupyter-widgets/controls",
            "_view_module_version": "1.5.0",
            "_view_name": "HBoxView",
            "box_style": "",
            "children": [
              "IPY_MODEL_106238fc194c47e2baf3270e1d78843e",
              "IPY_MODEL_261ea31d605247378280a1c72e49d610",
              "IPY_MODEL_f2dd6e5efc094babba20f2487494415e"
            ],
            "layout": "IPY_MODEL_cdf753c8fcd44294a163579024789c01"
          }
        },
        "106238fc194c47e2baf3270e1d78843e": {
          "model_module": "@jupyter-widgets/controls",
          "model_name": "HTMLModel",
          "model_module_version": "1.5.0",
          "state": {
            "_dom_classes": [],
            "_model_module": "@jupyter-widgets/controls",
            "_model_module_version": "1.5.0",
            "_model_name": "HTMLModel",
            "_view_count": null,
            "_view_module": "@jupyter-widgets/controls",
            "_view_module_version": "1.5.0",
            "_view_name": "HTMLView",
            "description": "",
            "description_tooltip": null,
            "layout": "IPY_MODEL_15e052caaf9a42c8a908bce3c7083a2a",
            "placeholder": "​",
            "style": "IPY_MODEL_327bf94945ee451db31f6df702a5cdc8",
            "value": "model.safetensors: 100%"
          }
        },
        "261ea31d605247378280a1c72e49d610": {
          "model_module": "@jupyter-widgets/controls",
          "model_name": "FloatProgressModel",
          "model_module_version": "1.5.0",
          "state": {
            "_dom_classes": [],
            "_model_module": "@jupyter-widgets/controls",
            "_model_module_version": "1.5.0",
            "_model_name": "FloatProgressModel",
            "_view_count": null,
            "_view_module": "@jupyter-widgets/controls",
            "_view_module_version": "1.5.0",
            "_view_name": "ProgressView",
            "bar_style": "success",
            "description": "",
            "description_tooltip": null,
            "layout": "IPY_MODEL_bf25d836c89b4598bd99b3287f926c01",
            "max": 133466304,
            "min": 0,
            "orientation": "horizontal",
            "style": "IPY_MODEL_df6dfc40cbea47b5af82a61d1bd678d5",
            "value": 133466304
          }
        },
        "f2dd6e5efc094babba20f2487494415e": {
          "model_module": "@jupyter-widgets/controls",
          "model_name": "HTMLModel",
          "model_module_version": "1.5.0",
          "state": {
            "_dom_classes": [],
            "_model_module": "@jupyter-widgets/controls",
            "_model_module_version": "1.5.0",
            "_model_name": "HTMLModel",
            "_view_count": null,
            "_view_module": "@jupyter-widgets/controls",
            "_view_module_version": "1.5.0",
            "_view_name": "HTMLView",
            "description": "",
            "description_tooltip": null,
            "layout": "IPY_MODEL_aa0d0eaa8d5b4a09b9fd73752031ed98",
            "placeholder": "​",
            "style": "IPY_MODEL_cff84d49e613497e924cb4e253a5c55e",
            "value": " 133M/133M [00:01&lt;00:00, 128MB/s]"
          }
        },
        "cdf753c8fcd44294a163579024789c01": {
          "model_module": "@jupyter-widgets/base",
          "model_name": "LayoutModel",
          "model_module_version": "1.2.0",
          "state": {
            "_model_module": "@jupyter-widgets/base",
            "_model_module_version": "1.2.0",
            "_model_name": "LayoutModel",
            "_view_count": null,
            "_view_module": "@jupyter-widgets/base",
            "_view_module_version": "1.2.0",
            "_view_name": "LayoutView",
            "align_content": null,
            "align_items": null,
            "align_self": null,
            "border": null,
            "bottom": null,
            "display": null,
            "flex": null,
            "flex_flow": null,
            "grid_area": null,
            "grid_auto_columns": null,
            "grid_auto_flow": null,
            "grid_auto_rows": null,
            "grid_column": null,
            "grid_gap": null,
            "grid_row": null,
            "grid_template_areas": null,
            "grid_template_columns": null,
            "grid_template_rows": null,
            "height": null,
            "justify_content": null,
            "justify_items": null,
            "left": null,
            "margin": null,
            "max_height": null,
            "max_width": null,
            "min_height": null,
            "min_width": null,
            "object_fit": null,
            "object_position": null,
            "order": null,
            "overflow": null,
            "overflow_x": null,
            "overflow_y": null,
            "padding": null,
            "right": null,
            "top": null,
            "visibility": null,
            "width": null
          }
        },
        "15e052caaf9a42c8a908bce3c7083a2a": {
          "model_module": "@jupyter-widgets/base",
          "model_name": "LayoutModel",
          "model_module_version": "1.2.0",
          "state": {
            "_model_module": "@jupyter-widgets/base",
            "_model_module_version": "1.2.0",
            "_model_name": "LayoutModel",
            "_view_count": null,
            "_view_module": "@jupyter-widgets/base",
            "_view_module_version": "1.2.0",
            "_view_name": "LayoutView",
            "align_content": null,
            "align_items": null,
            "align_self": null,
            "border": null,
            "bottom": null,
            "display": null,
            "flex": null,
            "flex_flow": null,
            "grid_area": null,
            "grid_auto_columns": null,
            "grid_auto_flow": null,
            "grid_auto_rows": null,
            "grid_column": null,
            "grid_gap": null,
            "grid_row": null,
            "grid_template_areas": null,
            "grid_template_columns": null,
            "grid_template_rows": null,
            "height": null,
            "justify_content": null,
            "justify_items": null,
            "left": null,
            "margin": null,
            "max_height": null,
            "max_width": null,
            "min_height": null,
            "min_width": null,
            "object_fit": null,
            "object_position": null,
            "order": null,
            "overflow": null,
            "overflow_x": null,
            "overflow_y": null,
            "padding": null,
            "right": null,
            "top": null,
            "visibility": null,
            "width": null
          }
        },
        "327bf94945ee451db31f6df702a5cdc8": {
          "model_module": "@jupyter-widgets/controls",
          "model_name": "DescriptionStyleModel",
          "model_module_version": "1.5.0",
          "state": {
            "_model_module": "@jupyter-widgets/controls",
            "_model_module_version": "1.5.0",
            "_model_name": "DescriptionStyleModel",
            "_view_count": null,
            "_view_module": "@jupyter-widgets/base",
            "_view_module_version": "1.2.0",
            "_view_name": "StyleView",
            "description_width": ""
          }
        },
        "bf25d836c89b4598bd99b3287f926c01": {
          "model_module": "@jupyter-widgets/base",
          "model_name": "LayoutModel",
          "model_module_version": "1.2.0",
          "state": {
            "_model_module": "@jupyter-widgets/base",
            "_model_module_version": "1.2.0",
            "_model_name": "LayoutModel",
            "_view_count": null,
            "_view_module": "@jupyter-widgets/base",
            "_view_module_version": "1.2.0",
            "_view_name": "LayoutView",
            "align_content": null,
            "align_items": null,
            "align_self": null,
            "border": null,
            "bottom": null,
            "display": null,
            "flex": null,
            "flex_flow": null,
            "grid_area": null,
            "grid_auto_columns": null,
            "grid_auto_flow": null,
            "grid_auto_rows": null,
            "grid_column": null,
            "grid_gap": null,
            "grid_row": null,
            "grid_template_areas": null,
            "grid_template_columns": null,
            "grid_template_rows": null,
            "height": null,
            "justify_content": null,
            "justify_items": null,
            "left": null,
            "margin": null,
            "max_height": null,
            "max_width": null,
            "min_height": null,
            "min_width": null,
            "object_fit": null,
            "object_position": null,
            "order": null,
            "overflow": null,
            "overflow_x": null,
            "overflow_y": null,
            "padding": null,
            "right": null,
            "top": null,
            "visibility": null,
            "width": null
          }
        },
        "df6dfc40cbea47b5af82a61d1bd678d5": {
          "model_module": "@jupyter-widgets/controls",
          "model_name": "ProgressStyleModel",
          "model_module_version": "1.5.0",
          "state": {
            "_model_module": "@jupyter-widgets/controls",
            "_model_module_version": "1.5.0",
            "_model_name": "ProgressStyleModel",
            "_view_count": null,
            "_view_module": "@jupyter-widgets/base",
            "_view_module_version": "1.2.0",
            "_view_name": "StyleView",
            "bar_color": null,
            "description_width": ""
          }
        },
        "aa0d0eaa8d5b4a09b9fd73752031ed98": {
          "model_module": "@jupyter-widgets/base",
          "model_name": "LayoutModel",
          "model_module_version": "1.2.0",
          "state": {
            "_model_module": "@jupyter-widgets/base",
            "_model_module_version": "1.2.0",
            "_model_name": "LayoutModel",
            "_view_count": null,
            "_view_module": "@jupyter-widgets/base",
            "_view_module_version": "1.2.0",
            "_view_name": "LayoutView",
            "align_content": null,
            "align_items": null,
            "align_self": null,
            "border": null,
            "bottom": null,
            "display": null,
            "flex": null,
            "flex_flow": null,
            "grid_area": null,
            "grid_auto_columns": null,
            "grid_auto_flow": null,
            "grid_auto_rows": null,
            "grid_column": null,
            "grid_gap": null,
            "grid_row": null,
            "grid_template_areas": null,
            "grid_template_columns": null,
            "grid_template_rows": null,
            "height": null,
            "justify_content": null,
            "justify_items": null,
            "left": null,
            "margin": null,
            "max_height": null,
            "max_width": null,
            "min_height": null,
            "min_width": null,
            "object_fit": null,
            "object_position": null,
            "order": null,
            "overflow": null,
            "overflow_x": null,
            "overflow_y": null,
            "padding": null,
            "right": null,
            "top": null,
            "visibility": null,
            "width": null
          }
        },
        "cff84d49e613497e924cb4e253a5c55e": {
          "model_module": "@jupyter-widgets/controls",
          "model_name": "DescriptionStyleModel",
          "model_module_version": "1.5.0",
          "state": {
            "_model_module": "@jupyter-widgets/controls",
            "_model_module_version": "1.5.0",
            "_model_name": "DescriptionStyleModel",
            "_view_count": null,
            "_view_module": "@jupyter-widgets/base",
            "_view_module_version": "1.2.0",
            "_view_name": "StyleView",
            "description_width": ""
          }
        },
        "389c2a1e1b814f96822dae15d2ed3d64": {
          "model_module": "@jupyter-widgets/controls",
          "model_name": "HBoxModel",
          "model_module_version": "1.5.0",
          "state": {
            "_dom_classes": [],
            "_model_module": "@jupyter-widgets/controls",
            "_model_module_version": "1.5.0",
            "_model_name": "HBoxModel",
            "_view_count": null,
            "_view_module": "@jupyter-widgets/controls",
            "_view_module_version": "1.5.0",
            "_view_name": "HBoxView",
            "box_style": "",
            "children": [
              "IPY_MODEL_981c0c9f93c74bb0be97d237e6e0262a",
              "IPY_MODEL_39d15593e0e543a589427a720dc8ccee",
              "IPY_MODEL_c275c0a3207c4b8aa2908108fcf360fb"
            ],
            "layout": "IPY_MODEL_ffccbb86249343f0a6708ea25456aef9"
          }
        },
        "981c0c9f93c74bb0be97d237e6e0262a": {
          "model_module": "@jupyter-widgets/controls",
          "model_name": "HTMLModel",
          "model_module_version": "1.5.0",
          "state": {
            "_dom_classes": [],
            "_model_module": "@jupyter-widgets/controls",
            "_model_module_version": "1.5.0",
            "_model_name": "HTMLModel",
            "_view_count": null,
            "_view_module": "@jupyter-widgets/controls",
            "_view_module_version": "1.5.0",
            "_view_name": "HTMLView",
            "description": "",
            "description_tooltip": null,
            "layout": "IPY_MODEL_70a6b2a73d9048b2be1bea122bc07bde",
            "placeholder": "​",
            "style": "IPY_MODEL_1927722f8e5d498998e527c44d8f1fdd",
            "value": "tokenizer_config.json: 100%"
          }
        },
        "39d15593e0e543a589427a720dc8ccee": {
          "model_module": "@jupyter-widgets/controls",
          "model_name": "FloatProgressModel",
          "model_module_version": "1.5.0",
          "state": {
            "_dom_classes": [],
            "_model_module": "@jupyter-widgets/controls",
            "_model_module_version": "1.5.0",
            "_model_name": "FloatProgressModel",
            "_view_count": null,
            "_view_module": "@jupyter-widgets/controls",
            "_view_module_version": "1.5.0",
            "_view_name": "ProgressView",
            "bar_style": "success",
            "description": "",
            "description_tooltip": null,
            "layout": "IPY_MODEL_88a122cef1f74662bca867ac20bcdf3e",
            "max": 366,
            "min": 0,
            "orientation": "horizontal",
            "style": "IPY_MODEL_1905d5408827453da1372a3c97004ab9",
            "value": 366
          }
        },
        "c275c0a3207c4b8aa2908108fcf360fb": {
          "model_module": "@jupyter-widgets/controls",
          "model_name": "HTMLModel",
          "model_module_version": "1.5.0",
          "state": {
            "_dom_classes": [],
            "_model_module": "@jupyter-widgets/controls",
            "_model_module_version": "1.5.0",
            "_model_name": "HTMLModel",
            "_view_count": null,
            "_view_module": "@jupyter-widgets/controls",
            "_view_module_version": "1.5.0",
            "_view_name": "HTMLView",
            "description": "",
            "description_tooltip": null,
            "layout": "IPY_MODEL_8ece9970be1f4e2fbfa154ffb5b01fe9",
            "placeholder": "​",
            "style": "IPY_MODEL_f13979e7657348cfbc71a8588d1d5e06",
            "value": " 366/366 [00:00&lt;00:00, 17.2kB/s]"
          }
        },
        "ffccbb86249343f0a6708ea25456aef9": {
          "model_module": "@jupyter-widgets/base",
          "model_name": "LayoutModel",
          "model_module_version": "1.2.0",
          "state": {
            "_model_module": "@jupyter-widgets/base",
            "_model_module_version": "1.2.0",
            "_model_name": "LayoutModel",
            "_view_count": null,
            "_view_module": "@jupyter-widgets/base",
            "_view_module_version": "1.2.0",
            "_view_name": "LayoutView",
            "align_content": null,
            "align_items": null,
            "align_self": null,
            "border": null,
            "bottom": null,
            "display": null,
            "flex": null,
            "flex_flow": null,
            "grid_area": null,
            "grid_auto_columns": null,
            "grid_auto_flow": null,
            "grid_auto_rows": null,
            "grid_column": null,
            "grid_gap": null,
            "grid_row": null,
            "grid_template_areas": null,
            "grid_template_columns": null,
            "grid_template_rows": null,
            "height": null,
            "justify_content": null,
            "justify_items": null,
            "left": null,
            "margin": null,
            "max_height": null,
            "max_width": null,
            "min_height": null,
            "min_width": null,
            "object_fit": null,
            "object_position": null,
            "order": null,
            "overflow": null,
            "overflow_x": null,
            "overflow_y": null,
            "padding": null,
            "right": null,
            "top": null,
            "visibility": null,
            "width": null
          }
        },
        "70a6b2a73d9048b2be1bea122bc07bde": {
          "model_module": "@jupyter-widgets/base",
          "model_name": "LayoutModel",
          "model_module_version": "1.2.0",
          "state": {
            "_model_module": "@jupyter-widgets/base",
            "_model_module_version": "1.2.0",
            "_model_name": "LayoutModel",
            "_view_count": null,
            "_view_module": "@jupyter-widgets/base",
            "_view_module_version": "1.2.0",
            "_view_name": "LayoutView",
            "align_content": null,
            "align_items": null,
            "align_self": null,
            "border": null,
            "bottom": null,
            "display": null,
            "flex": null,
            "flex_flow": null,
            "grid_area": null,
            "grid_auto_columns": null,
            "grid_auto_flow": null,
            "grid_auto_rows": null,
            "grid_column": null,
            "grid_gap": null,
            "grid_row": null,
            "grid_template_areas": null,
            "grid_template_columns": null,
            "grid_template_rows": null,
            "height": null,
            "justify_content": null,
            "justify_items": null,
            "left": null,
            "margin": null,
            "max_height": null,
            "max_width": null,
            "min_height": null,
            "min_width": null,
            "object_fit": null,
            "object_position": null,
            "order": null,
            "overflow": null,
            "overflow_x": null,
            "overflow_y": null,
            "padding": null,
            "right": null,
            "top": null,
            "visibility": null,
            "width": null
          }
        },
        "1927722f8e5d498998e527c44d8f1fdd": {
          "model_module": "@jupyter-widgets/controls",
          "model_name": "DescriptionStyleModel",
          "model_module_version": "1.5.0",
          "state": {
            "_model_module": "@jupyter-widgets/controls",
            "_model_module_version": "1.5.0",
            "_model_name": "DescriptionStyleModel",
            "_view_count": null,
            "_view_module": "@jupyter-widgets/base",
            "_view_module_version": "1.2.0",
            "_view_name": "StyleView",
            "description_width": ""
          }
        },
        "88a122cef1f74662bca867ac20bcdf3e": {
          "model_module": "@jupyter-widgets/base",
          "model_name": "LayoutModel",
          "model_module_version": "1.2.0",
          "state": {
            "_model_module": "@jupyter-widgets/base",
            "_model_module_version": "1.2.0",
            "_model_name": "LayoutModel",
            "_view_count": null,
            "_view_module": "@jupyter-widgets/base",
            "_view_module_version": "1.2.0",
            "_view_name": "LayoutView",
            "align_content": null,
            "align_items": null,
            "align_self": null,
            "border": null,
            "bottom": null,
            "display": null,
            "flex": null,
            "flex_flow": null,
            "grid_area": null,
            "grid_auto_columns": null,
            "grid_auto_flow": null,
            "grid_auto_rows": null,
            "grid_column": null,
            "grid_gap": null,
            "grid_row": null,
            "grid_template_areas": null,
            "grid_template_columns": null,
            "grid_template_rows": null,
            "height": null,
            "justify_content": null,
            "justify_items": null,
            "left": null,
            "margin": null,
            "max_height": null,
            "max_width": null,
            "min_height": null,
            "min_width": null,
            "object_fit": null,
            "object_position": null,
            "order": null,
            "overflow": null,
            "overflow_x": null,
            "overflow_y": null,
            "padding": null,
            "right": null,
            "top": null,
            "visibility": null,
            "width": null
          }
        },
        "1905d5408827453da1372a3c97004ab9": {
          "model_module": "@jupyter-widgets/controls",
          "model_name": "ProgressStyleModel",
          "model_module_version": "1.5.0",
          "state": {
            "_model_module": "@jupyter-widgets/controls",
            "_model_module_version": "1.5.0",
            "_model_name": "ProgressStyleModel",
            "_view_count": null,
            "_view_module": "@jupyter-widgets/base",
            "_view_module_version": "1.2.0",
            "_view_name": "StyleView",
            "bar_color": null,
            "description_width": ""
          }
        },
        "8ece9970be1f4e2fbfa154ffb5b01fe9": {
          "model_module": "@jupyter-widgets/base",
          "model_name": "LayoutModel",
          "model_module_version": "1.2.0",
          "state": {
            "_model_module": "@jupyter-widgets/base",
            "_model_module_version": "1.2.0",
            "_model_name": "LayoutModel",
            "_view_count": null,
            "_view_module": "@jupyter-widgets/base",
            "_view_module_version": "1.2.0",
            "_view_name": "LayoutView",
            "align_content": null,
            "align_items": null,
            "align_self": null,
            "border": null,
            "bottom": null,
            "display": null,
            "flex": null,
            "flex_flow": null,
            "grid_area": null,
            "grid_auto_columns": null,
            "grid_auto_flow": null,
            "grid_auto_rows": null,
            "grid_column": null,
            "grid_gap": null,
            "grid_row": null,
            "grid_template_areas": null,
            "grid_template_columns": null,
            "grid_template_rows": null,
            "height": null,
            "justify_content": null,
            "justify_items": null,
            "left": null,
            "margin": null,
            "max_height": null,
            "max_width": null,
            "min_height": null,
            "min_width": null,
            "object_fit": null,
            "object_position": null,
            "order": null,
            "overflow": null,
            "overflow_x": null,
            "overflow_y": null,
            "padding": null,
            "right": null,
            "top": null,
            "visibility": null,
            "width": null
          }
        },
        "f13979e7657348cfbc71a8588d1d5e06": {
          "model_module": "@jupyter-widgets/controls",
          "model_name": "DescriptionStyleModel",
          "model_module_version": "1.5.0",
          "state": {
            "_model_module": "@jupyter-widgets/controls",
            "_model_module_version": "1.5.0",
            "_model_name": "DescriptionStyleModel",
            "_view_count": null,
            "_view_module": "@jupyter-widgets/base",
            "_view_module_version": "1.2.0",
            "_view_name": "StyleView",
            "description_width": ""
          }
        },
        "fc9efe0caad64f2785fed286094c318f": {
          "model_module": "@jupyter-widgets/controls",
          "model_name": "HBoxModel",
          "model_module_version": "1.5.0",
          "state": {
            "_dom_classes": [],
            "_model_module": "@jupyter-widgets/controls",
            "_model_module_version": "1.5.0",
            "_model_name": "HBoxModel",
            "_view_count": null,
            "_view_module": "@jupyter-widgets/controls",
            "_view_module_version": "1.5.0",
            "_view_name": "HBoxView",
            "box_style": "",
            "children": [
              "IPY_MODEL_37659f9ef21e4aa4a49c9396a57a182b",
              "IPY_MODEL_c59518ef221f460882869d8f1f34ecb4",
              "IPY_MODEL_e87cb96c692a428e824ed7728fc30450"
            ],
            "layout": "IPY_MODEL_fd5614cc5a2e44748caf93a3fcf730cd"
          }
        },
        "37659f9ef21e4aa4a49c9396a57a182b": {
          "model_module": "@jupyter-widgets/controls",
          "model_name": "HTMLModel",
          "model_module_version": "1.5.0",
          "state": {
            "_dom_classes": [],
            "_model_module": "@jupyter-widgets/controls",
            "_model_module_version": "1.5.0",
            "_model_name": "HTMLModel",
            "_view_count": null,
            "_view_module": "@jupyter-widgets/controls",
            "_view_module_version": "1.5.0",
            "_view_name": "HTMLView",
            "description": "",
            "description_tooltip": null,
            "layout": "IPY_MODEL_b475be07369942b3970196423ee8692d",
            "placeholder": "​",
            "style": "IPY_MODEL_19f766551c07459ca001cd698c6a5d7a",
            "value": "vocab.txt: 100%"
          }
        },
        "c59518ef221f460882869d8f1f34ecb4": {
          "model_module": "@jupyter-widgets/controls",
          "model_name": "FloatProgressModel",
          "model_module_version": "1.5.0",
          "state": {
            "_dom_classes": [],
            "_model_module": "@jupyter-widgets/controls",
            "_model_module_version": "1.5.0",
            "_model_name": "FloatProgressModel",
            "_view_count": null,
            "_view_module": "@jupyter-widgets/controls",
            "_view_module_version": "1.5.0",
            "_view_name": "ProgressView",
            "bar_style": "success",
            "description": "",
            "description_tooltip": null,
            "layout": "IPY_MODEL_e276600b3ed5416a8bcfb7978c23cd64",
            "max": 231508,
            "min": 0,
            "orientation": "horizontal",
            "style": "IPY_MODEL_65c7207f2e554ea6bdb9a66e3047366c",
            "value": 231508
          }
        },
        "e87cb96c692a428e824ed7728fc30450": {
          "model_module": "@jupyter-widgets/controls",
          "model_name": "HTMLModel",
          "model_module_version": "1.5.0",
          "state": {
            "_dom_classes": [],
            "_model_module": "@jupyter-widgets/controls",
            "_model_module_version": "1.5.0",
            "_model_name": "HTMLModel",
            "_view_count": null,
            "_view_module": "@jupyter-widgets/controls",
            "_view_module_version": "1.5.0",
            "_view_name": "HTMLView",
            "description": "",
            "description_tooltip": null,
            "layout": "IPY_MODEL_19567555b38b4b1bbb8e39017b0e2588",
            "placeholder": "​",
            "style": "IPY_MODEL_44d8da9693a7450182a3d684dd4ee5cc",
            "value": " 232k/232k [00:00&lt;00:00, 10.4MB/s]"
          }
        },
        "fd5614cc5a2e44748caf93a3fcf730cd": {
          "model_module": "@jupyter-widgets/base",
          "model_name": "LayoutModel",
          "model_module_version": "1.2.0",
          "state": {
            "_model_module": "@jupyter-widgets/base",
            "_model_module_version": "1.2.0",
            "_model_name": "LayoutModel",
            "_view_count": null,
            "_view_module": "@jupyter-widgets/base",
            "_view_module_version": "1.2.0",
            "_view_name": "LayoutView",
            "align_content": null,
            "align_items": null,
            "align_self": null,
            "border": null,
            "bottom": null,
            "display": null,
            "flex": null,
            "flex_flow": null,
            "grid_area": null,
            "grid_auto_columns": null,
            "grid_auto_flow": null,
            "grid_auto_rows": null,
            "grid_column": null,
            "grid_gap": null,
            "grid_row": null,
            "grid_template_areas": null,
            "grid_template_columns": null,
            "grid_template_rows": null,
            "height": null,
            "justify_content": null,
            "justify_items": null,
            "left": null,
            "margin": null,
            "max_height": null,
            "max_width": null,
            "min_height": null,
            "min_width": null,
            "object_fit": null,
            "object_position": null,
            "order": null,
            "overflow": null,
            "overflow_x": null,
            "overflow_y": null,
            "padding": null,
            "right": null,
            "top": null,
            "visibility": null,
            "width": null
          }
        },
        "b475be07369942b3970196423ee8692d": {
          "model_module": "@jupyter-widgets/base",
          "model_name": "LayoutModel",
          "model_module_version": "1.2.0",
          "state": {
            "_model_module": "@jupyter-widgets/base",
            "_model_module_version": "1.2.0",
            "_model_name": "LayoutModel",
            "_view_count": null,
            "_view_module": "@jupyter-widgets/base",
            "_view_module_version": "1.2.0",
            "_view_name": "LayoutView",
            "align_content": null,
            "align_items": null,
            "align_self": null,
            "border": null,
            "bottom": null,
            "display": null,
            "flex": null,
            "flex_flow": null,
            "grid_area": null,
            "grid_auto_columns": null,
            "grid_auto_flow": null,
            "grid_auto_rows": null,
            "grid_column": null,
            "grid_gap": null,
            "grid_row": null,
            "grid_template_areas": null,
            "grid_template_columns": null,
            "grid_template_rows": null,
            "height": null,
            "justify_content": null,
            "justify_items": null,
            "left": null,
            "margin": null,
            "max_height": null,
            "max_width": null,
            "min_height": null,
            "min_width": null,
            "object_fit": null,
            "object_position": null,
            "order": null,
            "overflow": null,
            "overflow_x": null,
            "overflow_y": null,
            "padding": null,
            "right": null,
            "top": null,
            "visibility": null,
            "width": null
          }
        },
        "19f766551c07459ca001cd698c6a5d7a": {
          "model_module": "@jupyter-widgets/controls",
          "model_name": "DescriptionStyleModel",
          "model_module_version": "1.5.0",
          "state": {
            "_model_module": "@jupyter-widgets/controls",
            "_model_module_version": "1.5.0",
            "_model_name": "DescriptionStyleModel",
            "_view_count": null,
            "_view_module": "@jupyter-widgets/base",
            "_view_module_version": "1.2.0",
            "_view_name": "StyleView",
            "description_width": ""
          }
        },
        "e276600b3ed5416a8bcfb7978c23cd64": {
          "model_module": "@jupyter-widgets/base",
          "model_name": "LayoutModel",
          "model_module_version": "1.2.0",
          "state": {
            "_model_module": "@jupyter-widgets/base",
            "_model_module_version": "1.2.0",
            "_model_name": "LayoutModel",
            "_view_count": null,
            "_view_module": "@jupyter-widgets/base",
            "_view_module_version": "1.2.0",
            "_view_name": "LayoutView",
            "align_content": null,
            "align_items": null,
            "align_self": null,
            "border": null,
            "bottom": null,
            "display": null,
            "flex": null,
            "flex_flow": null,
            "grid_area": null,
            "grid_auto_columns": null,
            "grid_auto_flow": null,
            "grid_auto_rows": null,
            "grid_column": null,
            "grid_gap": null,
            "grid_row": null,
            "grid_template_areas": null,
            "grid_template_columns": null,
            "grid_template_rows": null,
            "height": null,
            "justify_content": null,
            "justify_items": null,
            "left": null,
            "margin": null,
            "max_height": null,
            "max_width": null,
            "min_height": null,
            "min_width": null,
            "object_fit": null,
            "object_position": null,
            "order": null,
            "overflow": null,
            "overflow_x": null,
            "overflow_y": null,
            "padding": null,
            "right": null,
            "top": null,
            "visibility": null,
            "width": null
          }
        },
        "65c7207f2e554ea6bdb9a66e3047366c": {
          "model_module": "@jupyter-widgets/controls",
          "model_name": "ProgressStyleModel",
          "model_module_version": "1.5.0",
          "state": {
            "_model_module": "@jupyter-widgets/controls",
            "_model_module_version": "1.5.0",
            "_model_name": "ProgressStyleModel",
            "_view_count": null,
            "_view_module": "@jupyter-widgets/base",
            "_view_module_version": "1.2.0",
            "_view_name": "StyleView",
            "bar_color": null,
            "description_width": ""
          }
        },
        "19567555b38b4b1bbb8e39017b0e2588": {
          "model_module": "@jupyter-widgets/base",
          "model_name": "LayoutModel",
          "model_module_version": "1.2.0",
          "state": {
            "_model_module": "@jupyter-widgets/base",
            "_model_module_version": "1.2.0",
            "_model_name": "LayoutModel",
            "_view_count": null,
            "_view_module": "@jupyter-widgets/base",
            "_view_module_version": "1.2.0",
            "_view_name": "LayoutView",
            "align_content": null,
            "align_items": null,
            "align_self": null,
            "border": null,
            "bottom": null,
            "display": null,
            "flex": null,
            "flex_flow": null,
            "grid_area": null,
            "grid_auto_columns": null,
            "grid_auto_flow": null,
            "grid_auto_rows": null,
            "grid_column": null,
            "grid_gap": null,
            "grid_row": null,
            "grid_template_areas": null,
            "grid_template_columns": null,
            "grid_template_rows": null,
            "height": null,
            "justify_content": null,
            "justify_items": null,
            "left": null,
            "margin": null,
            "max_height": null,
            "max_width": null,
            "min_height": null,
            "min_width": null,
            "object_fit": null,
            "object_position": null,
            "order": null,
            "overflow": null,
            "overflow_x": null,
            "overflow_y": null,
            "padding": null,
            "right": null,
            "top": null,
            "visibility": null,
            "width": null
          }
        },
        "44d8da9693a7450182a3d684dd4ee5cc": {
          "model_module": "@jupyter-widgets/controls",
          "model_name": "DescriptionStyleModel",
          "model_module_version": "1.5.0",
          "state": {
            "_model_module": "@jupyter-widgets/controls",
            "_model_module_version": "1.5.0",
            "_model_name": "DescriptionStyleModel",
            "_view_count": null,
            "_view_module": "@jupyter-widgets/base",
            "_view_module_version": "1.2.0",
            "_view_name": "StyleView",
            "description_width": ""
          }
        },
        "d3dbdcef889445cf812eea9a4db7ef97": {
          "model_module": "@jupyter-widgets/controls",
          "model_name": "HBoxModel",
          "model_module_version": "1.5.0",
          "state": {
            "_dom_classes": [],
            "_model_module": "@jupyter-widgets/controls",
            "_model_module_version": "1.5.0",
            "_model_name": "HBoxModel",
            "_view_count": null,
            "_view_module": "@jupyter-widgets/controls",
            "_view_module_version": "1.5.0",
            "_view_name": "HBoxView",
            "box_style": "",
            "children": [
              "IPY_MODEL_fcab1d3736514d8c93a817c844ecd7a0",
              "IPY_MODEL_cc77e540c3584a28be33ee5b7583fd9e",
              "IPY_MODEL_873e1dcee55144898d185d24a81f415c"
            ],
            "layout": "IPY_MODEL_a7ff48693fd84c3bb328e3658bc3c5f4"
          }
        },
        "fcab1d3736514d8c93a817c844ecd7a0": {
          "model_module": "@jupyter-widgets/controls",
          "model_name": "HTMLModel",
          "model_module_version": "1.5.0",
          "state": {
            "_dom_classes": [],
            "_model_module": "@jupyter-widgets/controls",
            "_model_module_version": "1.5.0",
            "_model_name": "HTMLModel",
            "_view_count": null,
            "_view_module": "@jupyter-widgets/controls",
            "_view_module_version": "1.5.0",
            "_view_name": "HTMLView",
            "description": "",
            "description_tooltip": null,
            "layout": "IPY_MODEL_4e1c71bba5dc4440b559b4de1da7923a",
            "placeholder": "​",
            "style": "IPY_MODEL_9053283e3ecb43dd9da94126fe64694a",
            "value": "tokenizer.json: 100%"
          }
        },
        "cc77e540c3584a28be33ee5b7583fd9e": {
          "model_module": "@jupyter-widgets/controls",
          "model_name": "FloatProgressModel",
          "model_module_version": "1.5.0",
          "state": {
            "_dom_classes": [],
            "_model_module": "@jupyter-widgets/controls",
            "_model_module_version": "1.5.0",
            "_model_name": "FloatProgressModel",
            "_view_count": null,
            "_view_module": "@jupyter-widgets/controls",
            "_view_module_version": "1.5.0",
            "_view_name": "ProgressView",
            "bar_style": "success",
            "description": "",
            "description_tooltip": null,
            "layout": "IPY_MODEL_43c086346ace46bb837c338abe3e0e11",
            "max": 711396,
            "min": 0,
            "orientation": "horizontal",
            "style": "IPY_MODEL_40cf903a825542d5bd11d337b0043b11",
            "value": 711396
          }
        },
        "873e1dcee55144898d185d24a81f415c": {
          "model_module": "@jupyter-widgets/controls",
          "model_name": "HTMLModel",
          "model_module_version": "1.5.0",
          "state": {
            "_dom_classes": [],
            "_model_module": "@jupyter-widgets/controls",
            "_model_module_version": "1.5.0",
            "_model_name": "HTMLModel",
            "_view_count": null,
            "_view_module": "@jupyter-widgets/controls",
            "_view_module_version": "1.5.0",
            "_view_name": "HTMLView",
            "description": "",
            "description_tooltip": null,
            "layout": "IPY_MODEL_cc518904dcf4412b90c6daa959d97f1e",
            "placeholder": "​",
            "style": "IPY_MODEL_243fb03ad31143fbae12539b1c1cb0a9",
            "value": " 711k/711k [00:00&lt;00:00, 2.21MB/s]"
          }
        },
        "a7ff48693fd84c3bb328e3658bc3c5f4": {
          "model_module": "@jupyter-widgets/base",
          "model_name": "LayoutModel",
          "model_module_version": "1.2.0",
          "state": {
            "_model_module": "@jupyter-widgets/base",
            "_model_module_version": "1.2.0",
            "_model_name": "LayoutModel",
            "_view_count": null,
            "_view_module": "@jupyter-widgets/base",
            "_view_module_version": "1.2.0",
            "_view_name": "LayoutView",
            "align_content": null,
            "align_items": null,
            "align_self": null,
            "border": null,
            "bottom": null,
            "display": null,
            "flex": null,
            "flex_flow": null,
            "grid_area": null,
            "grid_auto_columns": null,
            "grid_auto_flow": null,
            "grid_auto_rows": null,
            "grid_column": null,
            "grid_gap": null,
            "grid_row": null,
            "grid_template_areas": null,
            "grid_template_columns": null,
            "grid_template_rows": null,
            "height": null,
            "justify_content": null,
            "justify_items": null,
            "left": null,
            "margin": null,
            "max_height": null,
            "max_width": null,
            "min_height": null,
            "min_width": null,
            "object_fit": null,
            "object_position": null,
            "order": null,
            "overflow": null,
            "overflow_x": null,
            "overflow_y": null,
            "padding": null,
            "right": null,
            "top": null,
            "visibility": null,
            "width": null
          }
        },
        "4e1c71bba5dc4440b559b4de1da7923a": {
          "model_module": "@jupyter-widgets/base",
          "model_name": "LayoutModel",
          "model_module_version": "1.2.0",
          "state": {
            "_model_module": "@jupyter-widgets/base",
            "_model_module_version": "1.2.0",
            "_model_name": "LayoutModel",
            "_view_count": null,
            "_view_module": "@jupyter-widgets/base",
            "_view_module_version": "1.2.0",
            "_view_name": "LayoutView",
            "align_content": null,
            "align_items": null,
            "align_self": null,
            "border": null,
            "bottom": null,
            "display": null,
            "flex": null,
            "flex_flow": null,
            "grid_area": null,
            "grid_auto_columns": null,
            "grid_auto_flow": null,
            "grid_auto_rows": null,
            "grid_column": null,
            "grid_gap": null,
            "grid_row": null,
            "grid_template_areas": null,
            "grid_template_columns": null,
            "grid_template_rows": null,
            "height": null,
            "justify_content": null,
            "justify_items": null,
            "left": null,
            "margin": null,
            "max_height": null,
            "max_width": null,
            "min_height": null,
            "min_width": null,
            "object_fit": null,
            "object_position": null,
            "order": null,
            "overflow": null,
            "overflow_x": null,
            "overflow_y": null,
            "padding": null,
            "right": null,
            "top": null,
            "visibility": null,
            "width": null
          }
        },
        "9053283e3ecb43dd9da94126fe64694a": {
          "model_module": "@jupyter-widgets/controls",
          "model_name": "DescriptionStyleModel",
          "model_module_version": "1.5.0",
          "state": {
            "_model_module": "@jupyter-widgets/controls",
            "_model_module_version": "1.5.0",
            "_model_name": "DescriptionStyleModel",
            "_view_count": null,
            "_view_module": "@jupyter-widgets/base",
            "_view_module_version": "1.2.0",
            "_view_name": "StyleView",
            "description_width": ""
          }
        },
        "43c086346ace46bb837c338abe3e0e11": {
          "model_module": "@jupyter-widgets/base",
          "model_name": "LayoutModel",
          "model_module_version": "1.2.0",
          "state": {
            "_model_module": "@jupyter-widgets/base",
            "_model_module_version": "1.2.0",
            "_model_name": "LayoutModel",
            "_view_count": null,
            "_view_module": "@jupyter-widgets/base",
            "_view_module_version": "1.2.0",
            "_view_name": "LayoutView",
            "align_content": null,
            "align_items": null,
            "align_self": null,
            "border": null,
            "bottom": null,
            "display": null,
            "flex": null,
            "flex_flow": null,
            "grid_area": null,
            "grid_auto_columns": null,
            "grid_auto_flow": null,
            "grid_auto_rows": null,
            "grid_column": null,
            "grid_gap": null,
            "grid_row": null,
            "grid_template_areas": null,
            "grid_template_columns": null,
            "grid_template_rows": null,
            "height": null,
            "justify_content": null,
            "justify_items": null,
            "left": null,
            "margin": null,
            "max_height": null,
            "max_width": null,
            "min_height": null,
            "min_width": null,
            "object_fit": null,
            "object_position": null,
            "order": null,
            "overflow": null,
            "overflow_x": null,
            "overflow_y": null,
            "padding": null,
            "right": null,
            "top": null,
            "visibility": null,
            "width": null
          }
        },
        "40cf903a825542d5bd11d337b0043b11": {
          "model_module": "@jupyter-widgets/controls",
          "model_name": "ProgressStyleModel",
          "model_module_version": "1.5.0",
          "state": {
            "_model_module": "@jupyter-widgets/controls",
            "_model_module_version": "1.5.0",
            "_model_name": "ProgressStyleModel",
            "_view_count": null,
            "_view_module": "@jupyter-widgets/base",
            "_view_module_version": "1.2.0",
            "_view_name": "StyleView",
            "bar_color": null,
            "description_width": ""
          }
        },
        "cc518904dcf4412b90c6daa959d97f1e": {
          "model_module": "@jupyter-widgets/base",
          "model_name": "LayoutModel",
          "model_module_version": "1.2.0",
          "state": {
            "_model_module": "@jupyter-widgets/base",
            "_model_module_version": "1.2.0",
            "_model_name": "LayoutModel",
            "_view_count": null,
            "_view_module": "@jupyter-widgets/base",
            "_view_module_version": "1.2.0",
            "_view_name": "LayoutView",
            "align_content": null,
            "align_items": null,
            "align_self": null,
            "border": null,
            "bottom": null,
            "display": null,
            "flex": null,
            "flex_flow": null,
            "grid_area": null,
            "grid_auto_columns": null,
            "grid_auto_flow": null,
            "grid_auto_rows": null,
            "grid_column": null,
            "grid_gap": null,
            "grid_row": null,
            "grid_template_areas": null,
            "grid_template_columns": null,
            "grid_template_rows": null,
            "height": null,
            "justify_content": null,
            "justify_items": null,
            "left": null,
            "margin": null,
            "max_height": null,
            "max_width": null,
            "min_height": null,
            "min_width": null,
            "object_fit": null,
            "object_position": null,
            "order": null,
            "overflow": null,
            "overflow_x": null,
            "overflow_y": null,
            "padding": null,
            "right": null,
            "top": null,
            "visibility": null,
            "width": null
          }
        },
        "243fb03ad31143fbae12539b1c1cb0a9": {
          "model_module": "@jupyter-widgets/controls",
          "model_name": "DescriptionStyleModel",
          "model_module_version": "1.5.0",
          "state": {
            "_model_module": "@jupyter-widgets/controls",
            "_model_module_version": "1.5.0",
            "_model_name": "DescriptionStyleModel",
            "_view_count": null,
            "_view_module": "@jupyter-widgets/base",
            "_view_module_version": "1.2.0",
            "_view_name": "StyleView",
            "description_width": ""
          }
        },
        "ae74b4ad083840f7be79297cc08a15d8": {
          "model_module": "@jupyter-widgets/controls",
          "model_name": "HBoxModel",
          "model_module_version": "1.5.0",
          "state": {
            "_dom_classes": [],
            "_model_module": "@jupyter-widgets/controls",
            "_model_module_version": "1.5.0",
            "_model_name": "HBoxModel",
            "_view_count": null,
            "_view_module": "@jupyter-widgets/controls",
            "_view_module_version": "1.5.0",
            "_view_name": "HBoxView",
            "box_style": "",
            "children": [
              "IPY_MODEL_05f03547cae44fe5b31847e523498001",
              "IPY_MODEL_4ee655fcc32a49eb8ec05cee6fc61dae",
              "IPY_MODEL_fa1044de11404ad08af18b73db56c0ee"
            ],
            "layout": "IPY_MODEL_695906bcb21149608caa5aa5a2dbeafa"
          }
        },
        "05f03547cae44fe5b31847e523498001": {
          "model_module": "@jupyter-widgets/controls",
          "model_name": "HTMLModel",
          "model_module_version": "1.5.0",
          "state": {
            "_dom_classes": [],
            "_model_module": "@jupyter-widgets/controls",
            "_model_module_version": "1.5.0",
            "_model_name": "HTMLModel",
            "_view_count": null,
            "_view_module": "@jupyter-widgets/controls",
            "_view_module_version": "1.5.0",
            "_view_name": "HTMLView",
            "description": "",
            "description_tooltip": null,
            "layout": "IPY_MODEL_f8e34eb7957749d18848a8dd89daaa61",
            "placeholder": "​",
            "style": "IPY_MODEL_5c773fb41bc94067984b55fbb0bd3067",
            "value": "special_tokens_map.json: 100%"
          }
        },
        "4ee655fcc32a49eb8ec05cee6fc61dae": {
          "model_module": "@jupyter-widgets/controls",
          "model_name": "FloatProgressModel",
          "model_module_version": "1.5.0",
          "state": {
            "_dom_classes": [],
            "_model_module": "@jupyter-widgets/controls",
            "_model_module_version": "1.5.0",
            "_model_name": "FloatProgressModel",
            "_view_count": null,
            "_view_module": "@jupyter-widgets/controls",
            "_view_module_version": "1.5.0",
            "_view_name": "ProgressView",
            "bar_style": "success",
            "description": "",
            "description_tooltip": null,
            "layout": "IPY_MODEL_40ee8fd60a9349abb44bae5526ec034d",
            "max": 125,
            "min": 0,
            "orientation": "horizontal",
            "style": "IPY_MODEL_e416f3931e0649d6b41a9bd12821b1ac",
            "value": 125
          }
        },
        "fa1044de11404ad08af18b73db56c0ee": {
          "model_module": "@jupyter-widgets/controls",
          "model_name": "HTMLModel",
          "model_module_version": "1.5.0",
          "state": {
            "_dom_classes": [],
            "_model_module": "@jupyter-widgets/controls",
            "_model_module_version": "1.5.0",
            "_model_name": "HTMLModel",
            "_view_count": null,
            "_view_module": "@jupyter-widgets/controls",
            "_view_module_version": "1.5.0",
            "_view_name": "HTMLView",
            "description": "",
            "description_tooltip": null,
            "layout": "IPY_MODEL_870221be9ee34caf9fe7b07d642035ff",
            "placeholder": "​",
            "style": "IPY_MODEL_64b2df6c174044b9a8b83918bfefbc4d",
            "value": " 125/125 [00:00&lt;00:00, 6.92kB/s]"
          }
        },
        "695906bcb21149608caa5aa5a2dbeafa": {
          "model_module": "@jupyter-widgets/base",
          "model_name": "LayoutModel",
          "model_module_version": "1.2.0",
          "state": {
            "_model_module": "@jupyter-widgets/base",
            "_model_module_version": "1.2.0",
            "_model_name": "LayoutModel",
            "_view_count": null,
            "_view_module": "@jupyter-widgets/base",
            "_view_module_version": "1.2.0",
            "_view_name": "LayoutView",
            "align_content": null,
            "align_items": null,
            "align_self": null,
            "border": null,
            "bottom": null,
            "display": null,
            "flex": null,
            "flex_flow": null,
            "grid_area": null,
            "grid_auto_columns": null,
            "grid_auto_flow": null,
            "grid_auto_rows": null,
            "grid_column": null,
            "grid_gap": null,
            "grid_row": null,
            "grid_template_areas": null,
            "grid_template_columns": null,
            "grid_template_rows": null,
            "height": null,
            "justify_content": null,
            "justify_items": null,
            "left": null,
            "margin": null,
            "max_height": null,
            "max_width": null,
            "min_height": null,
            "min_width": null,
            "object_fit": null,
            "object_position": null,
            "order": null,
            "overflow": null,
            "overflow_x": null,
            "overflow_y": null,
            "padding": null,
            "right": null,
            "top": null,
            "visibility": null,
            "width": null
          }
        },
        "f8e34eb7957749d18848a8dd89daaa61": {
          "model_module": "@jupyter-widgets/base",
          "model_name": "LayoutModel",
          "model_module_version": "1.2.0",
          "state": {
            "_model_module": "@jupyter-widgets/base",
            "_model_module_version": "1.2.0",
            "_model_name": "LayoutModel",
            "_view_count": null,
            "_view_module": "@jupyter-widgets/base",
            "_view_module_version": "1.2.0",
            "_view_name": "LayoutView",
            "align_content": null,
            "align_items": null,
            "align_self": null,
            "border": null,
            "bottom": null,
            "display": null,
            "flex": null,
            "flex_flow": null,
            "grid_area": null,
            "grid_auto_columns": null,
            "grid_auto_flow": null,
            "grid_auto_rows": null,
            "grid_column": null,
            "grid_gap": null,
            "grid_row": null,
            "grid_template_areas": null,
            "grid_template_columns": null,
            "grid_template_rows": null,
            "height": null,
            "justify_content": null,
            "justify_items": null,
            "left": null,
            "margin": null,
            "max_height": null,
            "max_width": null,
            "min_height": null,
            "min_width": null,
            "object_fit": null,
            "object_position": null,
            "order": null,
            "overflow": null,
            "overflow_x": null,
            "overflow_y": null,
            "padding": null,
            "right": null,
            "top": null,
            "visibility": null,
            "width": null
          }
        },
        "5c773fb41bc94067984b55fbb0bd3067": {
          "model_module": "@jupyter-widgets/controls",
          "model_name": "DescriptionStyleModel",
          "model_module_version": "1.5.0",
          "state": {
            "_model_module": "@jupyter-widgets/controls",
            "_model_module_version": "1.5.0",
            "_model_name": "DescriptionStyleModel",
            "_view_count": null,
            "_view_module": "@jupyter-widgets/base",
            "_view_module_version": "1.2.0",
            "_view_name": "StyleView",
            "description_width": ""
          }
        },
        "40ee8fd60a9349abb44bae5526ec034d": {
          "model_module": "@jupyter-widgets/base",
          "model_name": "LayoutModel",
          "model_module_version": "1.2.0",
          "state": {
            "_model_module": "@jupyter-widgets/base",
            "_model_module_version": "1.2.0",
            "_model_name": "LayoutModel",
            "_view_count": null,
            "_view_module": "@jupyter-widgets/base",
            "_view_module_version": "1.2.0",
            "_view_name": "LayoutView",
            "align_content": null,
            "align_items": null,
            "align_self": null,
            "border": null,
            "bottom": null,
            "display": null,
            "flex": null,
            "flex_flow": null,
            "grid_area": null,
            "grid_auto_columns": null,
            "grid_auto_flow": null,
            "grid_auto_rows": null,
            "grid_column": null,
            "grid_gap": null,
            "grid_row": null,
            "grid_template_areas": null,
            "grid_template_columns": null,
            "grid_template_rows": null,
            "height": null,
            "justify_content": null,
            "justify_items": null,
            "left": null,
            "margin": null,
            "max_height": null,
            "max_width": null,
            "min_height": null,
            "min_width": null,
            "object_fit": null,
            "object_position": null,
            "order": null,
            "overflow": null,
            "overflow_x": null,
            "overflow_y": null,
            "padding": null,
            "right": null,
            "top": null,
            "visibility": null,
            "width": null
          }
        },
        "e416f3931e0649d6b41a9bd12821b1ac": {
          "model_module": "@jupyter-widgets/controls",
          "model_name": "ProgressStyleModel",
          "model_module_version": "1.5.0",
          "state": {
            "_model_module": "@jupyter-widgets/controls",
            "_model_module_version": "1.5.0",
            "_model_name": "ProgressStyleModel",
            "_view_count": null,
            "_view_module": "@jupyter-widgets/base",
            "_view_module_version": "1.2.0",
            "_view_name": "StyleView",
            "bar_color": null,
            "description_width": ""
          }
        },
        "870221be9ee34caf9fe7b07d642035ff": {
          "model_module": "@jupyter-widgets/base",
          "model_name": "LayoutModel",
          "model_module_version": "1.2.0",
          "state": {
            "_model_module": "@jupyter-widgets/base",
            "_model_module_version": "1.2.0",
            "_model_name": "LayoutModel",
            "_view_count": null,
            "_view_module": "@jupyter-widgets/base",
            "_view_module_version": "1.2.0",
            "_view_name": "LayoutView",
            "align_content": null,
            "align_items": null,
            "align_self": null,
            "border": null,
            "bottom": null,
            "display": null,
            "flex": null,
            "flex_flow": null,
            "grid_area": null,
            "grid_auto_columns": null,
            "grid_auto_flow": null,
            "grid_auto_rows": null,
            "grid_column": null,
            "grid_gap": null,
            "grid_row": null,
            "grid_template_areas": null,
            "grid_template_columns": null,
            "grid_template_rows": null,
            "height": null,
            "justify_content": null,
            "justify_items": null,
            "left": null,
            "margin": null,
            "max_height": null,
            "max_width": null,
            "min_height": null,
            "min_width": null,
            "object_fit": null,
            "object_position": null,
            "order": null,
            "overflow": null,
            "overflow_x": null,
            "overflow_y": null,
            "padding": null,
            "right": null,
            "top": null,
            "visibility": null,
            "width": null
          }
        },
        "64b2df6c174044b9a8b83918bfefbc4d": {
          "model_module": "@jupyter-widgets/controls",
          "model_name": "DescriptionStyleModel",
          "model_module_version": "1.5.0",
          "state": {
            "_model_module": "@jupyter-widgets/controls",
            "_model_module_version": "1.5.0",
            "_model_name": "DescriptionStyleModel",
            "_view_count": null,
            "_view_module": "@jupyter-widgets/base",
            "_view_module_version": "1.2.0",
            "_view_name": "StyleView",
            "description_width": ""
          }
        },
        "85244224ddd5464f91826cea881b139b": {
          "model_module": "@jupyter-widgets/controls",
          "model_name": "HBoxModel",
          "model_module_version": "1.5.0",
          "state": {
            "_dom_classes": [],
            "_model_module": "@jupyter-widgets/controls",
            "_model_module_version": "1.5.0",
            "_model_name": "HBoxModel",
            "_view_count": null,
            "_view_module": "@jupyter-widgets/controls",
            "_view_module_version": "1.5.0",
            "_view_name": "HBoxView",
            "box_style": "",
            "children": [
              "IPY_MODEL_504e6ae5c4d44ab687bd0aae6e2592fd",
              "IPY_MODEL_ce2a40c3072a4ec39029175f5b98f09e",
              "IPY_MODEL_379a0f3f552740cba3f360b082bc3eb2"
            ],
            "layout": "IPY_MODEL_ac0571af74924ed9aafa422e685e6ce6"
          }
        },
        "504e6ae5c4d44ab687bd0aae6e2592fd": {
          "model_module": "@jupyter-widgets/controls",
          "model_name": "HTMLModel",
          "model_module_version": "1.5.0",
          "state": {
            "_dom_classes": [],
            "_model_module": "@jupyter-widgets/controls",
            "_model_module_version": "1.5.0",
            "_model_name": "HTMLModel",
            "_view_count": null,
            "_view_module": "@jupyter-widgets/controls",
            "_view_module_version": "1.5.0",
            "_view_name": "HTMLView",
            "description": "",
            "description_tooltip": null,
            "layout": "IPY_MODEL_66412d6ce2f144f6845bb94d47a6622c",
            "placeholder": "​",
            "style": "IPY_MODEL_1b857b26965d45e3921ae6381cda1173",
            "value": "1_Pooling/config.json: 100%"
          }
        },
        "ce2a40c3072a4ec39029175f5b98f09e": {
          "model_module": "@jupyter-widgets/controls",
          "model_name": "FloatProgressModel",
          "model_module_version": "1.5.0",
          "state": {
            "_dom_classes": [],
            "_model_module": "@jupyter-widgets/controls",
            "_model_module_version": "1.5.0",
            "_model_name": "FloatProgressModel",
            "_view_count": null,
            "_view_module": "@jupyter-widgets/controls",
            "_view_module_version": "1.5.0",
            "_view_name": "ProgressView",
            "bar_style": "success",
            "description": "",
            "description_tooltip": null,
            "layout": "IPY_MODEL_6175a85ecb294676b328c3f624c05b99",
            "max": 190,
            "min": 0,
            "orientation": "horizontal",
            "style": "IPY_MODEL_5470f035905943829b494da6b076c92a",
            "value": 190
          }
        },
        "379a0f3f552740cba3f360b082bc3eb2": {
          "model_module": "@jupyter-widgets/controls",
          "model_name": "HTMLModel",
          "model_module_version": "1.5.0",
          "state": {
            "_dom_classes": [],
            "_model_module": "@jupyter-widgets/controls",
            "_model_module_version": "1.5.0",
            "_model_name": "HTMLModel",
            "_view_count": null,
            "_view_module": "@jupyter-widgets/controls",
            "_view_module_version": "1.5.0",
            "_view_name": "HTMLView",
            "description": "",
            "description_tooltip": null,
            "layout": "IPY_MODEL_151caf3dbd2c43109741f2b05f09e947",
            "placeholder": "​",
            "style": "IPY_MODEL_9651eea245a6447780610ade00bdd8c0",
            "value": " 190/190 [00:00&lt;00:00, 6.33kB/s]"
          }
        },
        "ac0571af74924ed9aafa422e685e6ce6": {
          "model_module": "@jupyter-widgets/base",
          "model_name": "LayoutModel",
          "model_module_version": "1.2.0",
          "state": {
            "_model_module": "@jupyter-widgets/base",
            "_model_module_version": "1.2.0",
            "_model_name": "LayoutModel",
            "_view_count": null,
            "_view_module": "@jupyter-widgets/base",
            "_view_module_version": "1.2.0",
            "_view_name": "LayoutView",
            "align_content": null,
            "align_items": null,
            "align_self": null,
            "border": null,
            "bottom": null,
            "display": null,
            "flex": null,
            "flex_flow": null,
            "grid_area": null,
            "grid_auto_columns": null,
            "grid_auto_flow": null,
            "grid_auto_rows": null,
            "grid_column": null,
            "grid_gap": null,
            "grid_row": null,
            "grid_template_areas": null,
            "grid_template_columns": null,
            "grid_template_rows": null,
            "height": null,
            "justify_content": null,
            "justify_items": null,
            "left": null,
            "margin": null,
            "max_height": null,
            "max_width": null,
            "min_height": null,
            "min_width": null,
            "object_fit": null,
            "object_position": null,
            "order": null,
            "overflow": null,
            "overflow_x": null,
            "overflow_y": null,
            "padding": null,
            "right": null,
            "top": null,
            "visibility": null,
            "width": null
          }
        },
        "66412d6ce2f144f6845bb94d47a6622c": {
          "model_module": "@jupyter-widgets/base",
          "model_name": "LayoutModel",
          "model_module_version": "1.2.0",
          "state": {
            "_model_module": "@jupyter-widgets/base",
            "_model_module_version": "1.2.0",
            "_model_name": "LayoutModel",
            "_view_count": null,
            "_view_module": "@jupyter-widgets/base",
            "_view_module_version": "1.2.0",
            "_view_name": "LayoutView",
            "align_content": null,
            "align_items": null,
            "align_self": null,
            "border": null,
            "bottom": null,
            "display": null,
            "flex": null,
            "flex_flow": null,
            "grid_area": null,
            "grid_auto_columns": null,
            "grid_auto_flow": null,
            "grid_auto_rows": null,
            "grid_column": null,
            "grid_gap": null,
            "grid_row": null,
            "grid_template_areas": null,
            "grid_template_columns": null,
            "grid_template_rows": null,
            "height": null,
            "justify_content": null,
            "justify_items": null,
            "left": null,
            "margin": null,
            "max_height": null,
            "max_width": null,
            "min_height": null,
            "min_width": null,
            "object_fit": null,
            "object_position": null,
            "order": null,
            "overflow": null,
            "overflow_x": null,
            "overflow_y": null,
            "padding": null,
            "right": null,
            "top": null,
            "visibility": null,
            "width": null
          }
        },
        "1b857b26965d45e3921ae6381cda1173": {
          "model_module": "@jupyter-widgets/controls",
          "model_name": "DescriptionStyleModel",
          "model_module_version": "1.5.0",
          "state": {
            "_model_module": "@jupyter-widgets/controls",
            "_model_module_version": "1.5.0",
            "_model_name": "DescriptionStyleModel",
            "_view_count": null,
            "_view_module": "@jupyter-widgets/base",
            "_view_module_version": "1.2.0",
            "_view_name": "StyleView",
            "description_width": ""
          }
        },
        "6175a85ecb294676b328c3f624c05b99": {
          "model_module": "@jupyter-widgets/base",
          "model_name": "LayoutModel",
          "model_module_version": "1.2.0",
          "state": {
            "_model_module": "@jupyter-widgets/base",
            "_model_module_version": "1.2.0",
            "_model_name": "LayoutModel",
            "_view_count": null,
            "_view_module": "@jupyter-widgets/base",
            "_view_module_version": "1.2.0",
            "_view_name": "LayoutView",
            "align_content": null,
            "align_items": null,
            "align_self": null,
            "border": null,
            "bottom": null,
            "display": null,
            "flex": null,
            "flex_flow": null,
            "grid_area": null,
            "grid_auto_columns": null,
            "grid_auto_flow": null,
            "grid_auto_rows": null,
            "grid_column": null,
            "grid_gap": null,
            "grid_row": null,
            "grid_template_areas": null,
            "grid_template_columns": null,
            "grid_template_rows": null,
            "height": null,
            "justify_content": null,
            "justify_items": null,
            "left": null,
            "margin": null,
            "max_height": null,
            "max_width": null,
            "min_height": null,
            "min_width": null,
            "object_fit": null,
            "object_position": null,
            "order": null,
            "overflow": null,
            "overflow_x": null,
            "overflow_y": null,
            "padding": null,
            "right": null,
            "top": null,
            "visibility": null,
            "width": null
          }
        },
        "5470f035905943829b494da6b076c92a": {
          "model_module": "@jupyter-widgets/controls",
          "model_name": "ProgressStyleModel",
          "model_module_version": "1.5.0",
          "state": {
            "_model_module": "@jupyter-widgets/controls",
            "_model_module_version": "1.5.0",
            "_model_name": "ProgressStyleModel",
            "_view_count": null,
            "_view_module": "@jupyter-widgets/base",
            "_view_module_version": "1.2.0",
            "_view_name": "StyleView",
            "bar_color": null,
            "description_width": ""
          }
        },
        "151caf3dbd2c43109741f2b05f09e947": {
          "model_module": "@jupyter-widgets/base",
          "model_name": "LayoutModel",
          "model_module_version": "1.2.0",
          "state": {
            "_model_module": "@jupyter-widgets/base",
            "_model_module_version": "1.2.0",
            "_model_name": "LayoutModel",
            "_view_count": null,
            "_view_module": "@jupyter-widgets/base",
            "_view_module_version": "1.2.0",
            "_view_name": "LayoutView",
            "align_content": null,
            "align_items": null,
            "align_self": null,
            "border": null,
            "bottom": null,
            "display": null,
            "flex": null,
            "flex_flow": null,
            "grid_area": null,
            "grid_auto_columns": null,
            "grid_auto_flow": null,
            "grid_auto_rows": null,
            "grid_column": null,
            "grid_gap": null,
            "grid_row": null,
            "grid_template_areas": null,
            "grid_template_columns": null,
            "grid_template_rows": null,
            "height": null,
            "justify_content": null,
            "justify_items": null,
            "left": null,
            "margin": null,
            "max_height": null,
            "max_width": null,
            "min_height": null,
            "min_width": null,
            "object_fit": null,
            "object_position": null,
            "order": null,
            "overflow": null,
            "overflow_x": null,
            "overflow_y": null,
            "padding": null,
            "right": null,
            "top": null,
            "visibility": null,
            "width": null
          }
        },
        "9651eea245a6447780610ade00bdd8c0": {
          "model_module": "@jupyter-widgets/controls",
          "model_name": "DescriptionStyleModel",
          "model_module_version": "1.5.0",
          "state": {
            "_model_module": "@jupyter-widgets/controls",
            "_model_module_version": "1.5.0",
            "_model_name": "DescriptionStyleModel",
            "_view_count": null,
            "_view_module": "@jupyter-widgets/base",
            "_view_module_version": "1.2.0",
            "_view_name": "StyleView",
            "description_width": ""
          }
        }
      }
    }
  },
  "cells": [
    {
      "cell_type": "markdown",
      "metadata": {
        "id": "view-in-github",
        "colab_type": "text"
      },
      "source": [
        "<a href=\"https://colab.research.google.com/github/Arunprabhakaran04/Meeting_assistant/blob/main/Meeting_Assistance.ipynb\" target=\"_parent\"><img src=\"https://colab.research.google.com/assets/colab-badge.svg\" alt=\"Open In Colab\"/></a>"
      ]
    },
    {
      "cell_type": "code",
      "execution_count": null,
      "metadata": {
        "collapsed": true,
        "id": "EyLfqwh5_lt4",
        "colab": {
          "base_uri": "https://localhost:8080/"
        },
        "outputId": "bf93aa0a-f525-4ac8-8533-7eb95d497a3c"
      },
      "outputs": [
        {
          "output_type": "stream",
          "name": "stdout",
          "text": [
            "  Preparing metadata (setup.py) ... \u001b[?25l\u001b[?25hdone\n",
            "  Building wheel for google-search-results (setup.py) ... \u001b[?25l\u001b[?25hdone\n"
          ]
        }
      ],
      "source": [
        "!pip -q install transformers\n",
        "!pip -q install google-search-results\n",
        "!pip -q install python-dotenv"
      ]
    },
    {
      "cell_type": "code",
      "source": [
        "!pip -q install langchain langchain-huggingface PyPDF2 langchain_community"
      ],
      "metadata": {
        "id": "qZGZinywO3he",
        "colab": {
          "base_uri": "https://localhost:8080/"
        },
        "outputId": "bf21f7f6-33fc-4a72-ba36-fdb4de195f62"
      },
      "execution_count": null,
      "outputs": [
        {
          "output_type": "stream",
          "name": "stdout",
          "text": [
            "\u001b[2K   \u001b[90m━━━━━━━━━━━━━━━━━━━━━━━━━━━━━━━━━━━━━━━━\u001b[0m \u001b[32m27.5/27.5 MB\u001b[0m \u001b[31m21.9 MB/s\u001b[0m eta \u001b[36m0:00:00\u001b[0m\n",
            "\u001b[2K   \u001b[90m━━━━━━━━━━━━━━━━━━━━━━━━━━━━━━━━━━━━━━━━\u001b[0m \u001b[32m232.6/232.6 kB\u001b[0m \u001b[31m11.9 MB/s\u001b[0m eta \u001b[36m0:00:00\u001b[0m\n",
            "\u001b[2K   \u001b[90m━━━━━━━━━━━━━━━━━━━━━━━━━━━━━━━━━━━━━━━━\u001b[0m \u001b[32m2.5/2.5 MB\u001b[0m \u001b[31m51.7 MB/s\u001b[0m eta \u001b[36m0:00:00\u001b[0m\n",
            "\u001b[2K   \u001b[90m━━━━━━━━━━━━━━━━━━━━━━━━━━━━━━━━━━━━━━━━\u001b[0m \u001b[32m1.0/1.0 MB\u001b[0m \u001b[31m29.3 MB/s\u001b[0m eta \u001b[36m0:00:00\u001b[0m\n",
            "\u001b[2K   \u001b[90m━━━━━━━━━━━━━━━━━━━━━━━━━━━━━━━━━━━━━━━━\u001b[0m \u001b[32m411.6/411.6 kB\u001b[0m \u001b[31m14.9 MB/s\u001b[0m eta \u001b[36m0:00:00\u001b[0m\n",
            "\u001b[2K   \u001b[90m━━━━━━━━━━━━━━━━━━━━━━━━━━━━━━━━━━━━━━━━\u001b[0m \u001b[32m49.3/49.3 kB\u001b[0m \u001b[31m2.7 MB/s\u001b[0m eta \u001b[36m0:00:00\u001b[0m\n",
            "\u001b[?25h"
          ]
        }
      ]
    },
    {
      "cell_type": "code",
      "source": [
        "from transformers import pipeline, AutoTokenizer, AutoModelForCausalLM\n",
        "from serpapi import GoogleSearch\n",
        "import os"
      ],
      "metadata": {
        "id": "TEk1s8QBAu-A"
      },
      "execution_count": null,
      "outputs": []
    },
    {
      "cell_type": "code",
      "source": [
        "!pip -q install gradio"
      ],
      "metadata": {
        "id": "JUSD7-B_ZStf",
        "colab": {
          "base_uri": "https://localhost:8080/"
        },
        "outputId": "1306bb4b-ae36-46ea-e862-a67bb9fdcd08"
      },
      "execution_count": null,
      "outputs": [
        {
          "output_type": "stream",
          "name": "stdout",
          "text": [
            "\u001b[2K   \u001b[90m━━━━━━━━━━━━━━━━━━━━━━━━━━━━━━━━━━━━━━━━\u001b[0m \u001b[32m57.2/57.2 MB\u001b[0m \u001b[31m8.7 MB/s\u001b[0m eta \u001b[36m0:00:00\u001b[0m\n",
            "\u001b[2K   \u001b[90m━━━━━━━━━━━━━━━━━━━━━━━━━━━━━━━━━━━━━━━━\u001b[0m \u001b[32m320.4/320.4 kB\u001b[0m \u001b[31m8.2 MB/s\u001b[0m eta \u001b[36m0:00:00\u001b[0m\n",
            "\u001b[2K   \u001b[90m━━━━━━━━━━━━━━━━━━━━━━━━━━━━━━━━━━━━━━━━\u001b[0m \u001b[32m94.8/94.8 kB\u001b[0m \u001b[31m5.7 MB/s\u001b[0m eta \u001b[36m0:00:00\u001b[0m\n",
            "\u001b[2K   \u001b[90m━━━━━━━━━━━━━━━━━━━━━━━━━━━━━━━━━━━━━━━━\u001b[0m \u001b[32m11.2/11.2 MB\u001b[0m \u001b[31m30.9 MB/s\u001b[0m eta \u001b[36m0:00:00\u001b[0m\n",
            "\u001b[2K   \u001b[90m━━━━━━━━━━━━━━━━━━━━━━━━━━━━━━━━━━━━━━━━\u001b[0m \u001b[32m73.2/73.2 kB\u001b[0m \u001b[31m4.4 MB/s\u001b[0m eta \u001b[36m0:00:00\u001b[0m\n",
            "\u001b[2K   \u001b[90m━━━━━━━━━━━━━━━━━━━━━━━━━━━━━━━━━━━━━━━━\u001b[0m \u001b[32m62.3/62.3 kB\u001b[0m \u001b[31m2.5 MB/s\u001b[0m eta \u001b[36m0:00:00\u001b[0m\n",
            "\u001b[?25h"
          ]
        }
      ]
    },
    {
      "cell_type": "code",
      "source": [
        "!pip -q install groq"
      ],
      "metadata": {
        "colab": {
          "base_uri": "https://localhost:8080/"
        },
        "id": "OK_BAh_RfcDv",
        "outputId": "cddb3704-6e56-4c22-f101-5a6788214faa"
      },
      "execution_count": null,
      "outputs": [
        {
          "output_type": "stream",
          "name": "stdout",
          "text": [
            "\u001b[?25l   \u001b[90m━━━━━━━━━━━━━━━━━━━━━━━━━━━━━━━━━━━━━━━━\u001b[0m \u001b[32m0.0/109.1 kB\u001b[0m \u001b[31m?\u001b[0m eta \u001b[36m-:--:--\u001b[0m\r\u001b[2K   \u001b[90m━━━━━━━━━━━━━━━━━━━━━━━━━━━━━━━━━━━━━━━━\u001b[0m \u001b[32m109.1/109.1 kB\u001b[0m \u001b[31m3.1 MB/s\u001b[0m eta \u001b[36m0:00:00\u001b[0m\n",
            "\u001b[?25h"
          ]
        }
      ]
    },
    {
      "cell_type": "code",
      "source": [
        "import requests"
      ],
      "metadata": {
        "id": "XoKsFE4MGPV1"
      },
      "execution_count": null,
      "outputs": []
    },
    {
      "cell_type": "code",
      "source": [
        "import gradio as gr\n",
        "import torch\n",
        "import re"
      ],
      "metadata": {
        "id": "uKNgHkNfZgkd"
      },
      "execution_count": null,
      "outputs": []
    },
    {
      "cell_type": "code",
      "source": [
        "from groq import Groq"
      ],
      "metadata": {
        "id": "CprgFDo7frjL"
      },
      "execution_count": null,
      "outputs": []
    },
    {
      "cell_type": "markdown",
      "source": [
        "##Groq-Whisper Model"
      ],
      "metadata": {
        "id": "OR5tPWIVLhvD"
      }
    },
    {
      "cell_type": "code",
      "source": [
        "from google.colab import userdata\n",
        "groq_api_key = userdata.get(\"stt_bot_groq\")"
      ],
      "metadata": {
        "id": "uaIfiAuzGRJ-"
      },
      "execution_count": null,
      "outputs": []
    },
    {
      "cell_type": "code",
      "source": [
        "client = Groq(api_key=groq_api_key)"
      ],
      "metadata": {
        "id": "s5WLsUB_f-7B"
      },
      "execution_count": null,
      "outputs": []
    },
    {
      "cell_type": "code",
      "source": [
        "def transcribe_audio_with_groq(audio_path):\n",
        "  if not audio_path:\n",
        "    return \"\"\n",
        "  with open(audio_path, \"rb\") as file:\n",
        "      # Create a transcription of the audio file\n",
        "      transcription = client.audio.transcriptions.create(\n",
        "        file=(audio_path, file.read()), # Required audio file\n",
        "        model=\"whisper-large-v3\", # Required model to use for transcription\n",
        "        language=\"en\",  # Optional\n",
        "        temperature=0.1  # Optional\n",
        "      )\n",
        "\n",
        "  return transcription.text\n"
      ],
      "metadata": {
        "id": "l8UYmwK_GrUf"
      },
      "execution_count": null,
      "outputs": []
    },
    {
      "cell_type": "code",
      "source": [
        "audio_path = \"/content/person1.m4a\"\n",
        "transcription = transcribe_audio_with_groq(audio_path)\n",
        "print(transcription.text)"
      ],
      "metadata": {
        "colab": {
          "base_uri": "https://localhost:8080/"
        },
        "id": "hjQpPJzm0iQD",
        "outputId": "f1e63fb2-2177-4a7c-dcfb-3d60685c6212"
      },
      "execution_count": null,
      "outputs": [
        {
          "output_type": "stream",
          "name": "stdout",
          "text": [
            " Hi, this is Arun. I'm applying for the role of generated via internal company. Would you start the interview process for me?\n"
          ]
        }
      ]
    },
    {
      "cell_type": "markdown",
      "source": [
        "##Question Extraction"
      ],
      "metadata": {
        "id": "ToHs-ahAMPip"
      }
    },
    {
      "cell_type": "code",
      "source": [
        "from langchain.llms import HuggingFaceEndpoint\n",
        "\n",
        "extract_llm = HuggingFaceEndpoint(\n",
        "    repo_id=\"tiiuae/falcon-7b-instruct\",\n",
        "    temperature=0.1,\n",
        "    max_new_tokens=128\n",
        ")"
      ],
      "metadata": {
        "colab": {
          "base_uri": "https://localhost:8080/"
        },
        "id": "y4wq_IPndwV7",
        "outputId": "2d592b97-c3ae-4680-976f-563604338e8a"
      },
      "execution_count": null,
      "outputs": [
        {
          "output_type": "stream",
          "name": "stderr",
          "text": [
            "<ipython-input-9-b6f9d4e8bec3>:3: LangChainDeprecationWarning: The class `HuggingFaceEndpoint` was deprecated in LangChain 0.0.37 and will be removed in 1.0. An updated version of the class exists in the :class:`~langchain-huggingface package and should be used instead. To use it run `pip install -U :class:`~langchain-huggingface` and import as `from :class:`~langchain_huggingface import HuggingFaceEndpoint``.\n",
            "  extract_llm = HuggingFaceEndpoint(\n"
          ]
        }
      ]
    },
    {
      "cell_type": "code",
      "source": [
        "def extract_question(transcription):\n",
        "\n",
        "  prompt = f\"\"\"\n",
        "    You are a helpful assistant tasked with identifying the main question asked in a conversation.\n",
        "    Your goal is to extract the key question or query expressed by the user, even if it is implied or does not end with a question mark.\n",
        "    Focus on the user's intent, and prioritize their request for information, clarification, or guidance.\n",
        "\n",
        "    If no question is asked or the user's intent is unclear, return exactly: 'No clear question found.'\n",
        "\n",
        "    Provide the output in a natural, human-readable sentence phrased as a clear question, and return only the question or the exact message: 'No clear question found.'\n",
        "  \"\"\"\n",
        "\n",
        "  try:\n",
        "      response = extract_llm(prompt).strip()\n",
        "      if \"No clear question found\" in response:\n",
        "          return \"No clear question found.\"\n",
        "\n",
        "      return response\n",
        "\n",
        "  except Exception as e:\n",
        "      return f\"Error in processing: {str(e)}\""
      ],
      "metadata": {
        "id": "7eqjGNebdtFE"
      },
      "execution_count": null,
      "outputs": []
    },
    {
      "cell_type": "code",
      "source": [
        "def extract_question(transcription):\n",
        "    classification_prompt = [\n",
        "        {\n",
        "            \"role\": \"system\",\n",
        "            \"content\": (\n",
        "              \"You are a helpful assistant tasked with identifying the main question asked in a conversation.\"\n",
        "              \"Your goal is to extract the key question or query expressed by the user, even if it is implied or does not end with a question mark.\"\n",
        "              \"Focus on the user's intent, and prioritize their request for information, clarification, or guidance.\"\n",
        "              \"If no question is asked or the user's intent is unclear, return exactly: 'No clear question found.'\"\n",
        "              \"Provide the output in a natural, human-readable sentence phrased as a clear question, and return only the question or the exact message: 'No clear question found.'\"\n",
        "\n",
        "            ),\n",
        "        },\n",
        "        {\n",
        "            \"role\": \"user\",\n",
        "            \"content\": f\"Conversation:\\n\\\"\\\"\\\"{transcription}\\\"\\\"\\\".\"\n",
        "        }\n",
        "    ]\n",
        "\n",
        "    try:\n",
        "        response = client.chat.completions.create(\n",
        "            messages=classification_prompt,\n",
        "            model=\"llama-3.1-70b-versatile\",\n",
        "        )\n",
        "\n",
        "        # Extract the response text and clean it up\n",
        "        question_extracted = response.choices[0].message.content.strip()\n",
        "\n",
        "        if question_extracted == \"No clear question found.\":\n",
        "            return \"No clear question found.\"\n",
        "\n",
        "        return question_extracted\n",
        "\n",
        "    except Exception as e:\n",
        "        return f\"Error in processing: {str(e)}\"\n"
      ],
      "metadata": {
        "id": "8Nk8srchI1UQ"
      },
      "execution_count": null,
      "outputs": []
    },
    {
      "cell_type": "markdown",
      "source": [
        "##Text Classification"
      ],
      "metadata": {
        "id": "gU4tCzsVMLtC"
      }
    },
    {
      "cell_type": "code",
      "source": [
        "def classify_action(question):\n",
        "    print(\"Classifying question using Zero-Shot Classification model...\")\n",
        "    classifier = pipeline(\"zero-shot-classification\", model=\"facebook/bart-large-mnli\")\n",
        "    candidate_labels = [\"RAG\", \"Web Search\", \"LLM Answer\"]\n",
        "\n",
        "    prompt_template = (\n",
        "        \"You are an expert AI assistant trained to classify user queries into specific categories for a decision-making system.\\n\"\n",
        "        \"There are three categories to choose from:\\n\"\n",
        "        \"1. 'RAG' (Retrieval-Augmented Generation): Use this if the question requires retrieving detailed or structured knowledge from a database, document, or predefined dataset or about any project that the user has worked on.\\n\"\n",
        "        \"2. 'Web Search': Use this if the question is about real-time events, external facts, or knowledge not available in local datasets. Web search should only be selected for time-sensitive, factual, or real-world inquiries.\\n\"\n",
        "        \"3. 'LLM Answer': Use this if the question can be answered purely by a language model's general knowledge, reasoning capabilities, or linguistic understanding without external data.\\n\\n\"\n",
        "        \"Guidelines:\\n\"\n",
        "        \"- Analyze the question's intent and content thoroughly before deciding.\\n\"\n",
        "        \"- If the query mentions current news, live updates, or external information, classify it as 'Web Search'.\\n\"\n",
        "        \"- If the query can be answered with general knowledge, logical reasoning, or basic facts, choose 'LLM Answer'.\\n\"\n",
        "        \"- If the query deals about personal project/interest or requires deep or structured knowledge not immediately available, classify it as 'RAG'.\\n\"\n",
        "        \"- Return only one category: RAG, Web Search, or LLM Answer.\\n\"\n",
        "        \"- Ensure the classification is precise and relevant.\\n\\n\"\n",
        "        f\"User Query: {question}\"\n",
        "    )\n",
        "    result = classifier(\n",
        "        prompt_template,\n",
        "        candidate_labels=candidate_labels,\n",
        "        hypothesis_template=\"The query falls under {}.\"\n",
        "    )\n",
        "    classification = result['labels'][0]\n",
        "    return classification"
      ],
      "metadata": {
        "id": "qTnIb2HOHymX"
      },
      "execution_count": null,
      "outputs": []
    },
    {
      "cell_type": "code",
      "source": [
        "def classify_action(question):\n",
        "    print(\"Classifying question using Zero-Shot Classification model...\")\n",
        "\n",
        "    classification_prompt = [\n",
        "        {\n",
        "            \"role\": \"system\",\n",
        "            \"content\": (\n",
        "                \"You are an expert AI assistant trained to classify user queries into specific categories for a decision-making system.\\n\"\n",
        "                \"There are three categories to choose from:\\n\"\n",
        "                \"1. 'RAG' (Retrieval-Augmented Generation): Use this if the question requires retrieving detailed or structured knowledge from a database, document, or predefined dataset or about any project that the user has worked on.\\n\"\n",
        "                \"2. 'Web Search': Use this if the question is about real-time events, external facts, or knowledge not available in local datasets. Web search should only be selected for time-sensitive, factual, or real-world inquiries.\\n\"\n",
        "                \"3. 'LLM Answer': Use this if the question can be answered purely by a language model's general knowledge, reasoning capabilities, or linguistic understanding without external data.\\n\\n\"\n",
        "                \"Guidelines:\\n\"\n",
        "                \"- Analyze the question's intent and content thoroughly before deciding.\\n\"\n",
        "                \"- If the query mentions current news, live updates, or external information, classify it as 'Web Search'.\\n\"\n",
        "                \"- If the query can be answered with general knowledge, logical reasoning, or basic facts, choose 'LLM Answer'.\\n\"\n",
        "                \"- If the query deals about personal project/interest or requires deep or structured knowledge not immediately available, classify it as 'RAG'.\\n\"\n",
        "                \"- Return only one category: RAG, Web Search, or LLM Answer.\\n\"\n",
        "                \"- Ensure the classification is precise and relevant.\"\n",
        "            ),\n",
        "        },\n",
        "        {\n",
        "            \"role\": \"user\",\n",
        "            \"content\": f\"User Query: {question}\"\n",
        "        }\n",
        "    ]\n",
        "\n",
        "    try:\n",
        "        response = client.chat.completions.create(\n",
        "            messages=classification_prompt,\n",
        "            model=\"llama-3.1-70b-versatile\",\n",
        "        )\n",
        "\n",
        "        # Extract the response text and clean it up\n",
        "        classification = response.choices[0].message.content.strip()\n",
        "\n",
        "        # Validate the classification\n",
        "        valid_labels = [\"RAG\", \"Web Search\", \"LLM Answer\"]\n",
        "        if classification not in valid_labels:\n",
        "            return \"Error: Invalid classification returned.\"\n",
        "\n",
        "        return classification\n",
        "\n",
        "    except Exception as e:\n",
        "        return f\"Error in processing: {str(e)}\"\n"
      ],
      "metadata": {
        "id": "s1bxTkGSL6g8"
      },
      "execution_count": null,
      "outputs": []
    },
    {
      "cell_type": "code",
      "source": [
        "def sample_use_case():\n",
        "    print(\"--- Sample Use Case: Classification Task ---\")\n",
        "    # Mocked transcription without a question mark, resembling voice output\n",
        "    #mock_transcription = 'hi arun! hope you are doing well. this is in regard to your application for the role of gen ai developer. tell me more about your RAG project '\n",
        "    mock_transcription = \"hi XYZ! hope you are doing well. we received your application for the role of generative ai. we are happy with your projects and experience and we hope that you would be happy to be part of our company's ambition, what is the todays weather\"\n",
        "    print(\"Transcription:\", mock_transcription)\n",
        "\n",
        "    # Extract Question\n",
        "    question = extract_question(mock_transcription)\n",
        "    print(\"Extracted Question:\", question)\n",
        "\n",
        "    if question not in [\"No clear question found.\", \"Error in processing\"]:\n",
        "        # Classify Action\n",
        "        classification = classify_action(question)\n",
        "        print(\"Action Decided:\", classification)\n",
        "    else:\n",
        "        print(\"No question extracted or an error occurred.\")"
      ],
      "metadata": {
        "id": "hYnp_06kCdFn"
      },
      "execution_count": null,
      "outputs": []
    },
    {
      "cell_type": "code",
      "source": [
        "sample_use_case()"
      ],
      "metadata": {
        "colab": {
          "base_uri": "https://localhost:8080/"
        },
        "id": "pbX8BlL1E49t",
        "outputId": "0b915be7-eba1-45a0-d6ba-37f11418b8c0"
      },
      "execution_count": null,
      "outputs": [
        {
          "output_type": "stream",
          "name": "stdout",
          "text": [
            "--- Sample Use Case: Classification Task ---\n",
            "Transcription: hi XYZ! hope you are doing well. we received your application for the role of generative ai. we are happy with your projects and experience and we hope that you would be happy to be part of our company's ambition, what is the todays weather\n",
            "Extracted Question: What is the today's weather?\n",
            "Classifying question using Zero-Shot Classification model...\n",
            "Action Decided: Web Search\n"
          ]
        }
      ]
    },
    {
      "cell_type": "markdown",
      "source": [
        "##Building custom Agents"
      ],
      "metadata": {
        "id": "H35P1zsFMYaJ"
      }
    },
    {
      "cell_type": "markdown",
      "source": [
        "##Buiding RAG"
      ],
      "metadata": {
        "id": "0p8yGVoyMeLA"
      }
    },
    {
      "cell_type": "code",
      "source": [
        "path = \"/content/drive/MyDrive/Colab Notebooks/Meeting_Bot/Arun_Resume.pdf\""
      ],
      "metadata": {
        "id": "GvFYDHC-PCZ1"
      },
      "execution_count": null,
      "outputs": []
    },
    {
      "cell_type": "code",
      "source": [
        "import os\n",
        "from google.colab import userdata\n",
        "sec_key = userdata.get(\"HF_TOKEN\")\n",
        "os.environ[\"HUGGINGFACEHUB_API_TOKEN\"] = sec_key\n"
      ],
      "metadata": {
        "id": "bTwEB9A7PLzc"
      },
      "execution_count": null,
      "outputs": []
    },
    {
      "cell_type": "code",
      "source": [
        "from PyPDF2 import PdfReader\n",
        "from langchain.text_splitter import CharacterTextSplitter\n",
        "from langchain.vectorstores import FAISS"
      ],
      "metadata": {
        "id": "pF3VSOCNPO5Q"
      },
      "execution_count": null,
      "outputs": []
    },
    {
      "cell_type": "code",
      "source": [
        "document_reader = PdfReader(path)"
      ],
      "metadata": {
        "id": "0aigzG8KPSNr"
      },
      "execution_count": null,
      "outputs": []
    },
    {
      "cell_type": "code",
      "source": [
        "print(document_reader)"
      ],
      "metadata": {
        "colab": {
          "base_uri": "https://localhost:8080/"
        },
        "id": "sn2-uawZPem_",
        "outputId": "2192fe82-d1b6-4d31-ec20-4e4e344d3895"
      },
      "execution_count": null,
      "outputs": [
        {
          "output_type": "stream",
          "name": "stdout",
          "text": [
            "<PyPDF2._reader.PdfReader object at 0x7ef342ea48b0>\n"
          ]
        }
      ]
    },
    {
      "cell_type": "code",
      "source": [
        "#reading data from the pages and adding it to a raw string\n",
        "raw_text = \"\"\n",
        "for i, pages in enumerate(document_reader.pages):\n",
        "  text = pages.extract_text()\n",
        "  if text:\n",
        "    raw_text += text\n",
        "\n"
      ],
      "metadata": {
        "id": "JeJvBbYAPgia"
      },
      "execution_count": null,
      "outputs": []
    },
    {
      "cell_type": "code",
      "source": [
        "len(raw_text)\n"
      ],
      "metadata": {
        "colab": {
          "base_uri": "https://localhost:8080/"
        },
        "id": "3HgVbxniPjwn",
        "outputId": "ced43b52-44d1-4e00-e577-7120e7d81123"
      },
      "execution_count": null,
      "outputs": [
        {
          "output_type": "execute_result",
          "data": {
            "text/plain": [
              "3160"
            ]
          },
          "metadata": {},
          "execution_count": 37
        }
      ]
    },
    {
      "cell_type": "code",
      "source": [
        "raw_text[:100]"
      ],
      "metadata": {
        "colab": {
          "base_uri": "https://localhost:8080/",
          "height": 36
        },
        "id": "GRGDhNd1PmZC",
        "outputId": "5339a78c-9121-4990-cea9-e614107a8189"
      },
      "execution_count": null,
      "outputs": [
        {
          "output_type": "execute_result",
          "data": {
            "text/plain": [
              "'Arun\\nPrabhakaran\\nChennai,\\nTamil\\nNadu,\\nIndia\\n|\\n+91-\\n9841633771\\n|\\nLinkedIn\\n|\\nGitHub\\n|\\narunprabhakaran1'"
            ],
            "application/vnd.google.colaboratory.intrinsic+json": {
              "type": "string"
            }
          },
          "metadata": {},
          "execution_count": 38
        }
      ]
    },
    {
      "cell_type": "code",
      "source": [
        "text_splitter = CharacterTextSplitter(\n",
        "    separator=\"\\n\",\n",
        "    chunk_size= 1000,\n",
        "    chunk_overlap = 200,\n",
        "    length_function = len\n",
        ")\n",
        "texts = text_splitter.split_text(raw_text)"
      ],
      "metadata": {
        "id": "fGkmsGobPpq4"
      },
      "execution_count": null,
      "outputs": []
    },
    {
      "cell_type": "code",
      "source": [
        "len(texts), type(texts)"
      ],
      "metadata": {
        "colab": {
          "base_uri": "https://localhost:8080/"
        },
        "id": "2YZlMpUqPso6",
        "outputId": "e67c2daa-2efa-425e-9aca-c97388525bd9"
      },
      "execution_count": null,
      "outputs": [
        {
          "output_type": "execute_result",
          "data": {
            "text/plain": [
              "(4, list)"
            ]
          },
          "metadata": {},
          "execution_count": 40
        }
      ]
    },
    {
      "cell_type": "code",
      "source": [
        "from langchain_community.embeddings import HuggingFaceBgeEmbeddings\n",
        "\n",
        "model_name = \"BAAI/bge-small-en\"\n",
        "model_kwargs = {\"device\": \"cpu\"}\n",
        "encode_kwargs = {\"normalize_embeddings\": True}\n",
        "embeddings = HuggingFaceBgeEmbeddings(\n",
        "    model_name=model_name, model_kwargs=model_kwargs, encode_kwargs=encode_kwargs\n",
        ")"
      ],
      "metadata": {
        "id": "75IlOi2JPu86",
        "colab": {
          "base_uri": "https://localhost:8080/",
          "height": 424,
          "referenced_widgets": [
            "f0c64468ce3d429aa6cbc34a1ec78405",
            "09ed3a20c96e41d888162d27d1db5e65",
            "02e078396fc14b84955d8e9f67b92abe",
            "57b8b0c6c4fd46edb754f328dcdedb64",
            "459db5ef7d1544da87c371f07cbb9b56",
            "c2fce937b6a741f5ab3c680250db4216",
            "6c1d7b47ede146d9a80a6cf5937a024d",
            "39417b135f4b4e2890419a52a0374671",
            "08f1aac831bc43ba8700b20e8d15fccb",
            "7f4c90451af7425a96878b9c884abf4f",
            "0c6e3071e0f349aeb7ef52367b399cef",
            "749db456103e46d5b5695aa807de4256",
            "16689b643764468daa757add66316104",
            "6497812851814474a8be3e92c343f88f",
            "e82ba1c45162499185c2ab3455e49f16",
            "2c37be53bedd4dad9de0907d06c0c731",
            "94ec94e5bfc840fba26afd62ef67865c",
            "dda00a576c034a78950667697b546ac0",
            "adbd9fa8832447c2b7ed8f7895086961",
            "ec366aab3e7c43208c9bf9f7522d199e",
            "ae568777eb3d4e82962a2180a0a00a2a",
            "7d9d490c431643778cf74034ce9a69a0",
            "da021945a98445d5b75c05288be399a1",
            "84b3261d51bd4abcb535954ee2a72dc6",
            "f3273da0f9544b0fbf3eed2dc8ef83ad",
            "c7bd244434ac41feb7e3a1b90dd67e91",
            "5cd2439728164484a205d0efd925aefc",
            "eb1c96054b0040a1b8fdae776c72ef5f",
            "31015ae0eddc4400aff012284fd2d87e",
            "5b7855542bd74fb184d9cbf5efa3ecf6",
            "dca036cba3c8413d80781ccaee8ea1ef",
            "2c868ee034ca4cfdb8c2485423e4376c",
            "1baa2fb3319b4ed0a11e778fd3657b94",
            "172bcc0a21494285aa27df362bfc9d57",
            "3f45c61e53424e8099654b3501c563cf",
            "f23c304af8af40f79761ab157f2d13a2",
            "5dfba278cf2f4223b29f44da9346812f",
            "75dcce66b5fd40d1bd8e73a136ddfbd3",
            "668695657ad7493eb995e90a66e59277",
            "680826f267024570b7521ec04a4a7e34",
            "558a695cd4d54616b0eb0981506b472f",
            "20241dd3d0014f81a586f442e33e2cd7",
            "abd8a9e939a6437f97f1eed50b98433b",
            "140f2c30390f4d3196550beaf909f71c",
            "e2bb4d6139d74192b66a0f31e27c4806",
            "e2b1c5cd112243f78a05a6dd2246fd93",
            "358d64b662664f8192a054940a3309b9",
            "905708ea2215497584813fcc087dd970",
            "777cb331f1b14904b168f8d0463cd948",
            "fb484674dd4f4db48ef6ed2b29fcf282",
            "43437868c6424031aca7572b1b98934d",
            "8d093064d25f459da71492d86d0cb2a5",
            "10251615079f4df1bdb953e749e8f7f9",
            "9edcb343fc7e49c49a4d768e7db921cc",
            "1f0b8a4a374d4a339dfe047829508e63",
            "d01a23d553534a84a09510ace6d5a1ba",
            "106238fc194c47e2baf3270e1d78843e",
            "261ea31d605247378280a1c72e49d610",
            "f2dd6e5efc094babba20f2487494415e",
            "cdf753c8fcd44294a163579024789c01",
            "15e052caaf9a42c8a908bce3c7083a2a",
            "327bf94945ee451db31f6df702a5cdc8",
            "bf25d836c89b4598bd99b3287f926c01",
            "df6dfc40cbea47b5af82a61d1bd678d5",
            "aa0d0eaa8d5b4a09b9fd73752031ed98",
            "cff84d49e613497e924cb4e253a5c55e",
            "389c2a1e1b814f96822dae15d2ed3d64",
            "981c0c9f93c74bb0be97d237e6e0262a",
            "39d15593e0e543a589427a720dc8ccee",
            "c275c0a3207c4b8aa2908108fcf360fb",
            "ffccbb86249343f0a6708ea25456aef9",
            "70a6b2a73d9048b2be1bea122bc07bde",
            "1927722f8e5d498998e527c44d8f1fdd",
            "88a122cef1f74662bca867ac20bcdf3e",
            "1905d5408827453da1372a3c97004ab9",
            "8ece9970be1f4e2fbfa154ffb5b01fe9",
            "f13979e7657348cfbc71a8588d1d5e06",
            "fc9efe0caad64f2785fed286094c318f",
            "37659f9ef21e4aa4a49c9396a57a182b",
            "c59518ef221f460882869d8f1f34ecb4",
            "e87cb96c692a428e824ed7728fc30450",
            "fd5614cc5a2e44748caf93a3fcf730cd",
            "b475be07369942b3970196423ee8692d",
            "19f766551c07459ca001cd698c6a5d7a",
            "e276600b3ed5416a8bcfb7978c23cd64",
            "65c7207f2e554ea6bdb9a66e3047366c",
            "19567555b38b4b1bbb8e39017b0e2588",
            "44d8da9693a7450182a3d684dd4ee5cc",
            "d3dbdcef889445cf812eea9a4db7ef97",
            "fcab1d3736514d8c93a817c844ecd7a0",
            "cc77e540c3584a28be33ee5b7583fd9e",
            "873e1dcee55144898d185d24a81f415c",
            "a7ff48693fd84c3bb328e3658bc3c5f4",
            "4e1c71bba5dc4440b559b4de1da7923a",
            "9053283e3ecb43dd9da94126fe64694a",
            "43c086346ace46bb837c338abe3e0e11",
            "40cf903a825542d5bd11d337b0043b11",
            "cc518904dcf4412b90c6daa959d97f1e",
            "243fb03ad31143fbae12539b1c1cb0a9",
            "ae74b4ad083840f7be79297cc08a15d8",
            "05f03547cae44fe5b31847e523498001",
            "4ee655fcc32a49eb8ec05cee6fc61dae",
            "fa1044de11404ad08af18b73db56c0ee",
            "695906bcb21149608caa5aa5a2dbeafa",
            "f8e34eb7957749d18848a8dd89daaa61",
            "5c773fb41bc94067984b55fbb0bd3067",
            "40ee8fd60a9349abb44bae5526ec034d",
            "e416f3931e0649d6b41a9bd12821b1ac",
            "870221be9ee34caf9fe7b07d642035ff",
            "64b2df6c174044b9a8b83918bfefbc4d",
            "85244224ddd5464f91826cea881b139b",
            "504e6ae5c4d44ab687bd0aae6e2592fd",
            "ce2a40c3072a4ec39029175f5b98f09e",
            "379a0f3f552740cba3f360b082bc3eb2",
            "ac0571af74924ed9aafa422e685e6ce6",
            "66412d6ce2f144f6845bb94d47a6622c",
            "1b857b26965d45e3921ae6381cda1173",
            "6175a85ecb294676b328c3f624c05b99",
            "5470f035905943829b494da6b076c92a",
            "151caf3dbd2c43109741f2b05f09e947",
            "9651eea245a6447780610ade00bdd8c0"
          ]
        },
        "outputId": "61818572-8586-48b3-bd0a-b7a3d70e0cf0"
      },
      "execution_count": null,
      "outputs": [
        {
          "output_type": "stream",
          "name": "stderr",
          "text": [
            "<ipython-input-41-ad449aa8f6d2>:6: LangChainDeprecationWarning: The class `HuggingFaceBgeEmbeddings` was deprecated in LangChain 0.2.2 and will be removed in 1.0. An updated version of the class exists in the :class:`~langchain-huggingface package and should be used instead. To use it run `pip install -U :class:`~langchain-huggingface` and import as `from :class:`~langchain_huggingface import HuggingFaceEmbeddings``.\n",
            "  embeddings = HuggingFaceBgeEmbeddings(\n"
          ]
        },
        {
          "output_type": "display_data",
          "data": {
            "text/plain": [
              "modules.json:   0%|          | 0.00/349 [00:00<?, ?B/s]"
            ],
            "application/vnd.jupyter.widget-view+json": {
              "version_major": 2,
              "version_minor": 0,
              "model_id": "f0c64468ce3d429aa6cbc34a1ec78405"
            }
          },
          "metadata": {}
        },
        {
          "output_type": "display_data",
          "data": {
            "text/plain": [
              "config_sentence_transformers.json:   0%|          | 0.00/124 [00:00<?, ?B/s]"
            ],
            "application/vnd.jupyter.widget-view+json": {
              "version_major": 2,
              "version_minor": 0,
              "model_id": "749db456103e46d5b5695aa807de4256"
            }
          },
          "metadata": {}
        },
        {
          "output_type": "display_data",
          "data": {
            "text/plain": [
              "README.md:   0%|          | 0.00/90.8k [00:00<?, ?B/s]"
            ],
            "application/vnd.jupyter.widget-view+json": {
              "version_major": 2,
              "version_minor": 0,
              "model_id": "da021945a98445d5b75c05288be399a1"
            }
          },
          "metadata": {}
        },
        {
          "output_type": "display_data",
          "data": {
            "text/plain": [
              "sentence_bert_config.json:   0%|          | 0.00/52.0 [00:00<?, ?B/s]"
            ],
            "application/vnd.jupyter.widget-view+json": {
              "version_major": 2,
              "version_minor": 0,
              "model_id": "172bcc0a21494285aa27df362bfc9d57"
            }
          },
          "metadata": {}
        },
        {
          "output_type": "display_data",
          "data": {
            "text/plain": [
              "config.json:   0%|          | 0.00/684 [00:00<?, ?B/s]"
            ],
            "application/vnd.jupyter.widget-view+json": {
              "version_major": 2,
              "version_minor": 0,
              "model_id": "e2bb4d6139d74192b66a0f31e27c4806"
            }
          },
          "metadata": {}
        },
        {
          "output_type": "display_data",
          "data": {
            "text/plain": [
              "model.safetensors:   0%|          | 0.00/133M [00:00<?, ?B/s]"
            ],
            "application/vnd.jupyter.widget-view+json": {
              "version_major": 2,
              "version_minor": 0,
              "model_id": "d01a23d553534a84a09510ace6d5a1ba"
            }
          },
          "metadata": {}
        },
        {
          "output_type": "display_data",
          "data": {
            "text/plain": [
              "tokenizer_config.json:   0%|          | 0.00/366 [00:00<?, ?B/s]"
            ],
            "application/vnd.jupyter.widget-view+json": {
              "version_major": 2,
              "version_minor": 0,
              "model_id": "389c2a1e1b814f96822dae15d2ed3d64"
            }
          },
          "metadata": {}
        },
        {
          "output_type": "display_data",
          "data": {
            "text/plain": [
              "vocab.txt:   0%|          | 0.00/232k [00:00<?, ?B/s]"
            ],
            "application/vnd.jupyter.widget-view+json": {
              "version_major": 2,
              "version_minor": 0,
              "model_id": "fc9efe0caad64f2785fed286094c318f"
            }
          },
          "metadata": {}
        },
        {
          "output_type": "display_data",
          "data": {
            "text/plain": [
              "tokenizer.json:   0%|          | 0.00/711k [00:00<?, ?B/s]"
            ],
            "application/vnd.jupyter.widget-view+json": {
              "version_major": 2,
              "version_minor": 0,
              "model_id": "d3dbdcef889445cf812eea9a4db7ef97"
            }
          },
          "metadata": {}
        },
        {
          "output_type": "display_data",
          "data": {
            "text/plain": [
              "special_tokens_map.json:   0%|          | 0.00/125 [00:00<?, ?B/s]"
            ],
            "application/vnd.jupyter.widget-view+json": {
              "version_major": 2,
              "version_minor": 0,
              "model_id": "ae74b4ad083840f7be79297cc08a15d8"
            }
          },
          "metadata": {}
        },
        {
          "output_type": "display_data",
          "data": {
            "text/plain": [
              "1_Pooling/config.json:   0%|          | 0.00/190 [00:00<?, ?B/s]"
            ],
            "application/vnd.jupyter.widget-view+json": {
              "version_major": 2,
              "version_minor": 0,
              "model_id": "85244224ddd5464f91826cea881b139b"
            }
          },
          "metadata": {}
        }
      ]
    },
    {
      "cell_type": "code",
      "source": [
        "embeddings"
      ],
      "metadata": {
        "colab": {
          "base_uri": "https://localhost:8080/"
        },
        "id": "7C_gQwokPxPI",
        "outputId": "5f7404d0-2d50-42b3-fdd3-41f233ecc9d8"
      },
      "execution_count": null,
      "outputs": [
        {
          "output_type": "execute_result",
          "data": {
            "text/plain": [
              "HuggingFaceBgeEmbeddings(client=SentenceTransformer(\n",
              "  (0): Transformer({'max_seq_length': 512, 'do_lower_case': True}) with Transformer model: BertModel \n",
              "  (1): Pooling({'word_embedding_dimension': 384, 'pooling_mode_cls_token': True, 'pooling_mode_mean_tokens': False, 'pooling_mode_max_tokens': False, 'pooling_mode_mean_sqrt_len_tokens': False, 'pooling_mode_weightedmean_tokens': False, 'pooling_mode_lasttoken': False, 'include_prompt': True})\n",
              "  (2): Normalize()\n",
              "), model_name='BAAI/bge-small-en', cache_folder=None, model_kwargs={'device': 'cpu'}, encode_kwargs={'normalize_embeddings': True}, query_instruction='Represent this question for searching relevant passages: ', embed_instruction='', show_progress=False)"
            ]
          },
          "metadata": {},
          "execution_count": 42
        }
      ]
    },
    {
      "cell_type": "code",
      "source": [
        "doc_search = FAISS.from_texts(texts, embeddings)\n",
        "doc_search.embedding_function"
      ],
      "metadata": {
        "colab": {
          "base_uri": "https://localhost:8080/"
        },
        "id": "LMIaV75oP2rc",
        "outputId": "528d5860-9897-4dd9-c97d-7e2105be469e"
      },
      "execution_count": null,
      "outputs": [
        {
          "output_type": "execute_result",
          "data": {
            "text/plain": [
              "HuggingFaceBgeEmbeddings(client=SentenceTransformer(\n",
              "  (0): Transformer({'max_seq_length': 512, 'do_lower_case': True}) with Transformer model: BertModel \n",
              "  (1): Pooling({'word_embedding_dimension': 384, 'pooling_mode_cls_token': True, 'pooling_mode_mean_tokens': False, 'pooling_mode_max_tokens': False, 'pooling_mode_mean_sqrt_len_tokens': False, 'pooling_mode_weightedmean_tokens': False, 'pooling_mode_lasttoken': False, 'include_prompt': True})\n",
              "  (2): Normalize()\n",
              "), model_name='BAAI/bge-small-en', cache_folder=None, model_kwargs={'device': 'cpu'}, encode_kwargs={'normalize_embeddings': True}, query_instruction='Represent this question for searching relevant passages: ', embed_instruction='', show_progress=False)"
            ]
          },
          "metadata": {},
          "execution_count": 43
        }
      ]
    },
    {
      "cell_type": "markdown",
      "source": [
        "##Test"
      ],
      "metadata": {
        "id": "_yG1UZDPP_qN"
      }
    },
    {
      "cell_type": "code",
      "source": [
        "query = \"acheivement in yantra\"\n",
        "docs = doc_search.similarity_search(query)\n",
        "docs"
      ],
      "metadata": {
        "colab": {
          "base_uri": "https://localhost:8080/"
        },
        "collapsed": true,
        "id": "W62zJq--QFKs",
        "outputId": "e223d376-50b0-46c0-8890-a1a27c12d71b"
      },
      "execution_count": null,
      "outputs": [
        {
          "output_type": "execute_result",
          "data": {
            "text/plain": [
              "[Document(id='12f54c66-bf79-4c92-bbf5-c126d6a2824e', metadata={}, page_content='ML\\nclassification.\\nCo-developing\\nan\\nAI-driven\\nchatbo\\nt\\non\\na\\ncentralized\\nweb\\nplatform\\n,\\nenabling\\nusers \\nto\\nquery\\ncategorized\\ndata\\nand\\nmake\\ninformed\\npurchasing\\ndecisions.\\nCurrently\\nin\\ndevelopment.\\n●\\nSJLT\\nGroup\\nMay’24\\n-\\nJuly’24 \\nAI/ML\\nSpecialist\\n●\\nDesigned\\nand\\ndeveloped\\na\\nmultilingual\\nRAG\\nchatbot\\nfor\\n100+\\ndaily\\nusers\\n,\\nenhancing\\nefficiency\\nby \\naccurately\\nretrieving\\ninformation\\nfrom\\ncompany\\nresources.\\nBuilt\\na\\ndata\\npipeline\\nto\\nstreamline\\nupdates \\nand\\nadded\\na\\nvoice\\nsearch\\nfeature\\nfor\\nimproved\\naccessibility.\\nACHIEVEMENTS\\n●\\nSecured\\n3rd\\nplace\\nin\\nHelios\\nat\\nYantra\\n2024\\nTechnical\\nFest\\n.\\nLed\\na\\nteam\\nin\\nideating\\nsolutions\\nfor\\na\\ndrone\\nto \\nexplore\\na\\ngas\\ngiant.\\nFocused\\non\\nsensor\\nselection,\\nconceptualizing\\ndrone\\nmodels,\\nand\\ndeveloping\\nreinforcement \\nlearning\\nmodels\\n,\\nincluding\\nDeep-Q\\nNetworks\\n,\\nfor\\nanalyzing\\nsensor\\ndata\\nand\\nenabling\\nautonomous\\nnavigation.\\nPROJECTS\\nPDFInsightAI\\nJune’24\\n●\\nDeveloped\\nPDFInsightAI,\\na\\nmultilingual\\nchatbo\\nt\\nutilizing\\nLangchain,\\nHugging\\nFace\\nfor\\nRetrieval\\nAugmented \\nGeneration'),\n",
              " Document(id='92925b2c-71bd-4b1a-9262-2b8ed8df99bf', metadata={}, page_content='Arun\\nPrabhakaran\\nChennai,\\nTamil\\nNadu,\\nIndia\\n|\\n+91-\\n9841633771\\n|\\nLinkedIn\\n|\\nGitHub\\n|\\narunprabhakaran1729@gmail.com\\nEDUCATION\\n●\\nB.Tech-CSE,\\nVIT\\nVellore\\n(2022-Present):\\n9.57\\nCGPA\\n●\\nClass\\nXII,\\nMaharishi\\nVidya\\nMandir\\n(2022):\\n95.6%\\n●\\nClass\\nX,\\nKola\\nSaraswathi\\nSchool\\n(2020):\\n95.8%\\nEXPERIENCE\\n●\\nFinmitr\\nOctober ’24-\\nPresent \\nAI-ML\\nHEAD\\n●\\nLeading\\nthe\\ndevelopment\\nof\\n\"FinGuru\",\\nan\\nAI\\nchatbot\\nfor\\nfinancial\\nplanning\\nthat\\nanalyzes\\nuser \\nportfolios,\\nflags\\nfinancial\\nhealth\\nindicators,\\nand\\nprovides\\ntailored\\nadvice\\non\\nmajor\\nfinancial\\ndecisions, \\nexcluding\\nstock\\npicking.\\nThe\\nbot\\nnavigates\\nusers\\nthrough\\napp\\nfeatures\\nbased\\non\\ntheir\\nneeds. \\n●\\nBioscr een\\nPvt\\nLtd\\nAugust’24\\n-\\nPresent \\nAI\\nData\\nIntegration\\nEngineer \\n○\\nCollaborating\\nwith\\na\\ncross-domain\\nteam\\nto\\ndevelop\\na\\ndynamic\\npipeline\\nthat\\nanalyzes\\nscraped\\ndata\\nfor \\nML\\nclassification.\\nCo-developing\\nan\\nAI-driven\\nchatbo\\nt\\non\\na\\ncentralized\\nweb\\nplatform\\n,\\nenabling\\nusers \\nto\\nquery\\ncategorized\\ndata\\nand\\nmake\\ninformed\\npurchasing\\ndecisions.\\nCurrently\\nin\\ndevelopment.\\n●'),\n",
              " Document(id='73b97d4c-de3a-441d-bfdd-15c109d46353', metadata={}, page_content=\"sensor\\ndata\\nand\\nenabling\\nautonomous\\nnavigation.\\nPROJECTS\\nPDFInsightAI\\nJune’24\\n●\\nDeveloped\\nPDFInsightAI,\\na\\nmultilingual\\nchatbo\\nt\\nutilizing\\nLangchain,\\nHugging\\nFace\\nfor\\nRetrieval\\nAugmented \\nGeneration\\n(RAG)\\n-based\\ncustomized\\nresponses. \\n●\\nIntegrated\\nOptical\\nCharacter\\nRecognition\\n(OCR\\n)\\nusing\\nOpenCV,\\nPIL,\\nand\\nPyTesseract\\nto\\nextract\\ntext\\nfrom \\ndocument\\nimages\\nfor\\ncontext-based\\nanswers. \\n●\\nCreated\\na\\ndata\\npipeline\\nto\\nfeed\\nthe\\nmodel\\nwith\\nthe\\nrequired\\ndataset\\nfor\\nfine-tuning\\n. \\n●\\nImplemented\\na\\nmulti-agent\\narchitecture\\n,\\nwhere\\none\\nagent\\nfunctions\\nas\\nRAG\\nand\\nthe\\nother\\nprovides\\na\\ntool\\nfor \\nvoice\\nsearch\\nin\\nmultiple\\nlanguages\\n. \\n●\\nEnabled\\nthe\\nmodel\\nto\\ngenerate\\nresponses\\nin\\nthe\\nquery's\\nlanguage,\\nwith\\nthe\\nflexibility\\nto\\ncustomize\\nanswers\\nin\\nother \\nlanguages.\\nAdvanced\\nMedical\\nImage\\nSynthesis\\nMarch’24\\n●\\nImplemented\\ndiverse\\ndeep\\nlearning\\nmethods,\\nincluding\\nConvolutional\\nNeural\\nNetworks\\n(CNNs)\\n,\\nautoencoders\\n, \\nand\\nGenerative\\nAdversarial\\nNetworks\\n(GANs)\\n,\\nto\\ncreate\\nlifelike\\nmedical\\nimages. \\n●\\nGenerated\"),\n",
              " Document(id='99b965a2-513d-413f-a1cf-b549a1288c58', metadata={}, page_content='Implemented\\ndiverse\\ndeep\\nlearning\\nmethods,\\nincluding\\nConvolutional\\nNeural\\nNetworks\\n(CNNs)\\n,\\nautoencoders\\n, \\nand\\nGenerative\\nAdversarial\\nNetworks\\n(GANs)\\n,\\nto\\ncreate\\nlifelike\\nmedical\\nimages. \\n●\\nGenerated\\nrealistic\\nimages\\nof\\nbrain\\ntumors\\n,\\nchest\\nX-rays\\n,\\nand\\npolyps\\nto\\nsupport\\nmedical\\nresearch\\nand \\ndiagnostics. \\n●\\nEnhanced\\ndiagnostic\\nprecision\\nand\\ncontributed\\nto\\nadvancing\\nmedical\\nresearch\\ninitiatives\\nthrough\\nsynthetic \\nmedical\\nimaging.\\nSKILLS\\nLanguages\\n:\\nPython,\\nJava,\\nC,\\nC++,\\nR,\\nSQL. \\nMachine\\nLearning\\nFrameworks\\n:\\nTensorFlow,\\nPyTorch,\\nKeras. \\nLLM:\\nHugging\\nFace,\\nLangChain,\\nTransformers,\\nLoRA,\\nQLoRA,\\nRAG,\\nLLM\\nAgents,\\nFine\\nTuning. \\nNatural\\nLanguage\\nProcessing\\n:\\nBERT,\\nGPT,\\nLSTM,\\nNLTK,\\nSpaCy. \\nVersion\\nControl\\nand\\nCloud:\\nGit,\\nGitHub,\\nDocker,\\nAWS,\\nMicrosoft\\nAzure.')]"
            ]
          },
          "metadata": {},
          "execution_count": 37
        }
      ]
    },
    {
      "cell_type": "markdown",
      "source": [
        "##LLM linking"
      ],
      "metadata": {
        "id": "C3mWmwOdQjbI"
      }
    },
    {
      "cell_type": "code",
      "source": [
        "from langchain_huggingface import HuggingFaceEndpoint\n",
        "llm = HuggingFaceEndpoint(\n",
        "    repo_id = \"mistralai/Mistral-7B-Instruct-v0.3\",\n",
        "    temperature = 0.1,\n",
        "    max_new_tokens = 512\n",
        "\n",
        ")"
      ],
      "metadata": {
        "id": "cuXIEjVhQmh5"
      },
      "execution_count": null,
      "outputs": []
    },
    {
      "cell_type": "code",
      "source": [
        "from langchain.chains import RetrievalQA\n",
        "\n",
        "retriever = doc_search.as_retriever(search_type=\"similarity\", search_kwargs={\"k\":4})\n",
        "\n",
        "rqa = RetrievalQA.from_chain_type(llm=llm,\n",
        "                                  chain_type=\"stuff\",\n",
        "                                  retriever=retriever,\n",
        "                                  return_source_documents=True)"
      ],
      "metadata": {
        "id": "Pu6yfk84QoMS"
      },
      "execution_count": null,
      "outputs": []
    },
    {
      "cell_type": "markdown",
      "source": [
        "##Rag function"
      ],
      "metadata": {
        "id": "Xx7hWOjScCLp"
      }
    },
    {
      "cell_type": "code",
      "source": [
        "def answer_query_rag(query):\n",
        "  answer = rqa.invoke(query)[\"result\"]\n",
        "  return answer"
      ],
      "metadata": {
        "id": "YDgdsGK4Qr3o"
      },
      "execution_count": null,
      "outputs": []
    },
    {
      "cell_type": "markdown",
      "source": [
        "##LLM custom answer generation."
      ],
      "metadata": {
        "id": "AC-rux5NcRXU"
      }
    },
    {
      "cell_type": "code",
      "source": [
        "# def llm_answer_generation(question):\n",
        "#     print(\"Generating answer using Mistral model...\")\n",
        "#     model_name = \"mistralai/Mistral-7B-Instruct-v0.1\"\n",
        "#     tokenizer = AutoTokenizer.from_pretrained(model_name)\n",
        "#     model = AutoModelForCausalLM.from_pretrained(model_name, torch_dtype=torch.float16, device_map=\"auto\")\n",
        "\n",
        "#     inputs = tokenizer(f\"Answer the following question concisely: {question}\", return_tensors=\"pt\").to(\"cuda\")\n",
        "#     outputs = model.generate(**inputs, max_length=50)\n",
        "\n",
        "#     return tokenizer.decode(outputs[0], skip_special_tokens=True).strip()\n",
        "\n",
        "from langchain.llms import HuggingFaceEndpoint\n",
        "\n",
        "# Configure the HuggingFaceEndpoint for the Mistral model\n",
        "mistral_llm = HuggingFaceEndpoint(\n",
        "    repo_id=\"mistralai/Mistral-7B-Instruct-v0.3\",\n",
        "    temperature=0.7,         # Balanced randomness\n",
        "    max_new_tokens=50,       # Limit response length\n",
        "    top_k=50,                # Limit candidate tokens to the top 50\n",
        "    top_p=0.9,               # Enable nucleus sampling\n",
        "    repetition_penalty=1.2   # Penalize repetitive outputs\n",
        ")\n",
        "\n",
        "def llm_answer_generation(question):\n",
        "    print(\"Generating answer using Mistral model...\")\n",
        "\n",
        "    # Construct the prompt for answering the question concisely\n",
        "    prompt = f\"Answer the following question concisely: {question}\"\n",
        "\n",
        "    try:\n",
        "        # Generate answer using the Hugging Face Endpoint\n",
        "        response = mistral_llm.invoke(prompt)\n",
        "        return response.strip()\n",
        "    except Exception as e:\n",
        "        return f\"Error in processing: {str(e)}\"\n",
        "\n"
      ],
      "metadata": {
        "id": "c4yWu_-RYMcs"
      },
      "execution_count": null,
      "outputs": []
    },
    {
      "cell_type": "code",
      "source": [
        "def llm_answer_generation(question):\n",
        "    print(\"Generating answer using Llama model via Groq API...\")\n",
        "\n",
        "    # Construct the prompt for answering the question concisely\n",
        "    prompt = [\n",
        "        {\n",
        "            \"role\": \"system\",\n",
        "            \"content\": \"You are a helpful assistant. Answer the user's question concisely and accurately.\"\n",
        "        },\n",
        "        {\n",
        "            \"role\": \"user\",\n",
        "            \"content\": question\n",
        "        }\n",
        "    ]\n",
        "\n",
        "    try:\n",
        "        # Generate answer using the Llama model via Groq API\n",
        "        response = client.chat.completions.create(\n",
        "            messages=prompt,\n",
        "            model=\"llama-3.1-70b-versatile\",\n",
        "        )\n",
        "\n",
        "        # Extract the response text\n",
        "        answer = response.choices[0].message.content.strip()\n",
        "        return answer\n",
        "\n",
        "    except Exception as e:\n",
        "        return f\"Error in processing: {str(e)}\""
      ],
      "metadata": {
        "id": "0HvIEvzNOU-q"
      },
      "execution_count": null,
      "outputs": []
    },
    {
      "cell_type": "markdown",
      "source": [
        "##Building websearch"
      ],
      "metadata": {
        "id": "y0QmZ3nYQ-lH"
      }
    },
    {
      "cell_type": "code",
      "source": [
        "def web_search(query):\n",
        "    print(\"Performing web search using SerpAPI...\")\n",
        "    from google.colab import userdata\n",
        "    serpapi_api_key = userdata.get(\"serpapi_key\")\n",
        "    if not serpapi_api_key:\n",
        "        raise ValueError(\"SerpAPI key not found. Please check Colab secrets.\")\n",
        "\n",
        "    params = {\n",
        "        \"q\": query,\n",
        "        \"api_key\": serpapi_api_key,\n",
        "        \"num\": 1\n",
        "    }\n",
        "    search = GoogleSearch(params)\n",
        "    result = search.get_dict()\n",
        "    if \"organic_results\" in result and len(result[\"organic_results\"]) > 0:\n",
        "        return result[\"organic_results\"][0].get(\"snippet\", \"No snippet found.\")\n",
        "\n",
        "    #if web search fails then we resort to llm answer - useful when the classifier classifies it incorrectly.\n",
        "    return llm_answer_generation(query)"
      ],
      "metadata": {
        "id": "TCP1IC0GRX8s"
      },
      "execution_count": null,
      "outputs": []
    },
    {
      "cell_type": "code",
      "source": [
        "!pip -q install tavily-python"
      ],
      "metadata": {
        "colab": {
          "base_uri": "https://localhost:8080/"
        },
        "id": "VykL5DVIPmCo",
        "outputId": "70816845-85eb-4468-f128-af406ddb2a69"
      },
      "execution_count": null,
      "outputs": [
        {
          "output_type": "stream",
          "name": "stdout",
          "text": [
            "\u001b[?25l   \u001b[90m━━━━━━━━━━━━━━━━━━━━━━━━━━━━━━━━━━━━━━━━\u001b[0m \u001b[32m0.0/1.2 MB\u001b[0m \u001b[31m?\u001b[0m eta \u001b[36m-:--:--\u001b[0m\r\u001b[2K   \u001b[91m━━━━━━━━━━\u001b[0m\u001b[90m╺\u001b[0m\u001b[90m━━━━━━━━━━━━━━━━━━━━━━━━━━━━━\u001b[0m \u001b[32m0.3/1.2 MB\u001b[0m \u001b[31m8.7 MB/s\u001b[0m eta \u001b[36m0:00:01\u001b[0m\r\u001b[2K   \u001b[91m━━━━━━━━━━━━━━━━━━━━━━━━━━━━━━━━━━━━━━━\u001b[0m\u001b[91m╸\u001b[0m \u001b[32m1.2/1.2 MB\u001b[0m \u001b[31m20.7 MB/s\u001b[0m eta \u001b[36m0:00:01\u001b[0m\r\u001b[2K   \u001b[90m━━━━━━━━━━━━━━━━━━━━━━━━━━━━━━━━━━━━━━━━\u001b[0m \u001b[32m1.2/1.2 MB\u001b[0m \u001b[31m15.7 MB/s\u001b[0m eta \u001b[36m0:00:00\u001b[0m\n",
            "\u001b[?25h"
          ]
        }
      ]
    },
    {
      "cell_type": "code",
      "source": [
        "from tavily import TavilyClient"
      ],
      "metadata": {
        "id": "fQChkUecPiSd"
      },
      "execution_count": null,
      "outputs": []
    },
    {
      "cell_type": "code",
      "source": [
        "from google.colab import userdata\n",
        "tavily_api = userdata.get(\"Tavily_STT\")\n",
        "tavily_client = TavilyClient(api_key=tavily_api)"
      ],
      "metadata": {
        "id": "8Pd1RGZZPrZB"
      },
      "execution_count": null,
      "outputs": []
    },
    {
      "cell_type": "code",
      "source": [
        "ans = response[\"results\"][0][\"content\"]\n",
        "confidence = response[\"results\"][0][\"score\"]\n",
        "\n",
        "print(ans)\n",
        "print(confidence)"
      ],
      "metadata": {
        "colab": {
          "base_uri": "https://localhost:8080/"
        },
        "id": "d_pBzbmNUFoJ",
        "outputId": "82a87f32-a85e-41fe-aee4-51afa3ebd1e6"
      },
      "execution_count": null,
      "outputs": [
        {
          "output_type": "stream",
          "name": "stdout",
          "text": [
            "Lionel Messi is an Argentine professional footballer who plays as a forward for and captains both Major League Soccer club Inter Miami and the Argentina national team.His individual achievements include eight Ballon d'Or awards, the most for any footballer. Having won 45 team trophies, [note 1] he is the most decorated player in the history of professional football. [11]\n",
            "0.8467682\n"
          ]
        }
      ]
    },
    {
      "cell_type": "code",
      "source": [
        "def web_search(query):\n",
        "  print(\"Performing web search using Tavily API...\")\n",
        "\n",
        "  try:\n",
        "      # Perform web search using the Tavily client\n",
        "      response = tavily_client.search(query)\n",
        "\n",
        "      if response:\n",
        "        ans = response[\"results\"][0][\"content\"]\n",
        "        confidence = response[\"results\"][0][\"score\"]\n",
        "        if confidence > 75:\n",
        "          return ans;\n",
        "        else:\n",
        "          return llm_answer_generation(query)\n",
        "\n",
        "      # If web search fails, fall back to LLM answer generation\n",
        "      return llm_answer_generation(query)\n",
        "\n",
        "  except Exception as e:\n",
        "      return f\"Error in processing: {str(e)}\""
      ],
      "metadata": {
        "id": "BYx2pRobQCj3"
      },
      "execution_count": null,
      "outputs": []
    },
    {
      "cell_type": "markdown",
      "source": [
        "##Answer generation + Test"
      ],
      "metadata": {
        "id": "afAc5r6ocYMt"
      }
    },
    {
      "cell_type": "code",
      "source": [
        "def get_final_answer(question, classification):\n",
        "    if classification == \"RAG\":\n",
        "        return answer_query_rag(question)\n",
        "    elif classification == \"Web Search\":\n",
        "        return web_search(question)\n",
        "    elif classification == \"LLM Answer\":\n",
        "        return llm_answer_generation(question)\n",
        "    else:\n",
        "        return \"Unable to determine the appropriate action.\""
      ],
      "metadata": {
        "id": "5xXgM80wRh0X"
      },
      "execution_count": null,
      "outputs": []
    },
    {
      "cell_type": "code",
      "source": [
        "def sample_use_case():\n",
        "    print(\"--- Sample Use Case: Full Workflow ---\")\n",
        "\n",
        "    mock_transcription = '''\n",
        "    Hi there, Arun. Hope you are doing well. This is in regard to the internship position that you have applied at our company.\n",
        "    explain more about your advanced image generation project.\n",
        "    '''\n",
        "\n",
        "    # mock_transcription = ''' hi there! how is your day going. this is in regard to the internship posistion that you have applied at our compnay.\n",
        "    # who is the prime minister of india ?'''\n",
        "\n",
        "    print(\"Transcription:\", mock_transcription)\n",
        "    question = extract_question(mock_transcription)\n",
        "    print(\"Extracted Question:\", question)\n",
        "\n",
        "    classification = classify_action(question)\n",
        "    print(\"Action Decided:\", classification)\n",
        "\n",
        "    answer = get_final_answer(question, classification)\n",
        "    print(\"Final Answer:\", answer)"
      ],
      "metadata": {
        "id": "229WVE2ASmx9"
      },
      "execution_count": null,
      "outputs": []
    },
    {
      "cell_type": "code",
      "source": [
        "sample_use_case()"
      ],
      "metadata": {
        "colab": {
          "base_uri": "https://localhost:8080/"
        },
        "id": "SMmAQLsYSppT",
        "outputId": "ee0a1b4b-3c15-4eb7-db6d-1e56c75b194b"
      },
      "execution_count": null,
      "outputs": [
        {
          "output_type": "stream",
          "name": "stdout",
          "text": [
            "--- Sample Use Case: Full Workflow ---\n",
            "Transcription: \n",
            "    Hi there, Arun. Hope you are doing well. This is in regard to the internship position that you have applied at our company.\n",
            "    explain more about your advanced image generation project.\n",
            "    \n",
            "Extracted Question: What more can you explain about your advanced image generation project?\n",
            "Classifying question using Zero-Shot Classification model...\n",
            "Action Decided: RAG\n",
            "Final Answer:  The advanced image generation project involved implementing diverse deep learning methods, including Convolutional Neural Networks (CNNs), autoencoders, and Generative Adversarial Networks (GANs), to create lifelike medical images. These generated realistic images of brain tumors, chest X-rays, and polyps to support medical research and diagnostics. This project contributed to enhancing diagnostic precision and advancing medical research initiatives through synthetic medical imaging.\n"
          ]
        }
      ]
    },
    {
      "cell_type": "code",
      "source": [
        "person1_transcripts = []\n",
        "person2_transcripts = []\n",
        "person1_audio_paths = []\n",
        "person2_audio_paths = []"
      ],
      "metadata": {
        "id": "0nOjfX1J9-yU"
      },
      "execution_count": null,
      "outputs": []
    },
    {
      "cell_type": "code",
      "source": [
        "def process_pipeline(audio_path_1, audio_path_2):\n",
        "    transcription_1 = transcribe_audio_with_groq(audio_path_1) if audio_path_1 else \"\"\n",
        "    transcription_2 = transcribe_audio_with_groq(audio_path_2) if audio_path_2 else \"\"\n",
        "\n",
        "    combined_transcription = transcription_1 + \" \" + transcription_2\n",
        "\n",
        "    question = extract_question(combined_transcription)\n",
        "    classification = classify_action(question)\n",
        "\n",
        "    if classification == \"RAG\":\n",
        "        answer = answer_query_rag(question)\n",
        "    elif classification == \"Web Search\":\n",
        "        answer = web_search(question)\n",
        "    else:\n",
        "        answer = llm_answer_generation(question)\n",
        "\n",
        "    return combined_transcription, question, classification, answer\n"
      ],
      "metadata": {
        "id": "qHJsMr6qSrcD"
      },
      "execution_count": null,
      "outputs": []
    },
    {
      "cell_type": "code",
      "source": [
        "def process_pipeline(combined_transcription):\n",
        "    # transcription_1 = transcribe_audio_with_groq(audio_path_1) if audio_path_1 else \"\"\n",
        "    # transcription_2 = transcribe_audio_with_groq(audio_path_2) if audio_path_2 else \"\"\n",
        "\n",
        "    # combined_transcription = transcription_1 + \" \" + transcription_2\n",
        "    if not combined_transcription:\n",
        "      return \"\", \"No question found.\", \"No classification.\", \"No answer.\"\n",
        "\n",
        "    question = extract_question(combined_transcription)\n",
        "\n",
        "    classification = classify_action(question)\n",
        "\n",
        "    if classification == \"RAG\":\n",
        "        answer = answer_query_rag(question)\n",
        "    elif classification == \"Web Search\":\n",
        "        answer = web_search(question)\n",
        "    else:\n",
        "        answer = llm_answer_generation(question)\n",
        "\n",
        "    return combined_transcription, question, classification, answer"
      ],
      "metadata": {
        "id": "mCpoAVTWN8zl"
      },
      "execution_count": null,
      "outputs": []
    },
    {
      "cell_type": "code",
      "source": [
        "def record_person1(audio_file):\n",
        "    global person1_transcripts, person1_audio_paths\n",
        "    transcription = transcribe_audio_with_groq(audio_file)\n",
        "    person1_transcripts.append(transcription)\n",
        "    person1_audio_paths.append(audio_file)  # Store audio path\n",
        "    full_transcript = \"Person 1: \" + \" \".join(person1_transcripts)\n",
        "    return full_transcript"
      ],
      "metadata": {
        "id": "Qd_I8WKu-D5k"
      },
      "execution_count": null,
      "outputs": []
    },
    {
      "cell_type": "code",
      "source": [
        "def record_person2(audio_file):\n",
        "    global person2_transcripts, person2_audio_paths\n",
        "    transcription = transcribe_audio_with_groq(audio_file)\n",
        "    person2_transcripts.append(transcription)\n",
        "    person2_audio_paths.append(audio_file)  # Store audio path\n",
        "    full_transcript = \"Person 2: \" + \" \".join(person2_transcripts)\n",
        "    return full_transcript"
      ],
      "metadata": {
        "id": "dItZ7XZN-Fbr"
      },
      "execution_count": null,
      "outputs": []
    },
    {
      "cell_type": "code",
      "source": [
        "def gradio_interface():\n",
        "    global person1_audio_paths, person2_audio_paths, person1_transcripts, person2_transcripts\n",
        "\n",
        "    # Create combined transcription for UI display\n",
        "    combined_transcription = f\"Person 1: {' '.join(person1_transcripts)}\\nPerson 2: {' '.join(person2_transcripts)}\"\n",
        "\n",
        "    # Process audio paths\n",
        "    transcription, question, classification, answer = process_pipeline(\n",
        "        \" \".join(person1_audio_paths), \" \".join(person2_audio_paths)\n",
        "    )\n",
        "\n",
        "    return combined_transcription, question, classification, answer\n"
      ],
      "metadata": {
        "id": "qdO4vwjTaPy2"
      },
      "execution_count": null,
      "outputs": []
    },
    {
      "cell_type": "code",
      "source": [
        "def clear_transcripts():\n",
        "    global person1_transcripts, person2_transcripts, person1_audio_paths, person2_audio_paths\n",
        "\n",
        "    # Reset global variables\n",
        "    person1_transcripts = []\n",
        "    person2_transcripts = []\n",
        "    person1_audio_paths = []\n",
        "    person2_audio_paths = []\n",
        "\n",
        "    # Return empty strings for all UI elements\n",
        "    return \"\", \"\", \"\", \"\", \"\", \"\"\n"
      ],
      "metadata": {
        "id": "8fxujgSY-KQj"
      },
      "execution_count": null,
      "outputs": []
    },
    {
      "cell_type": "code",
      "source": [
        "ans = gradio_interface(\"/content/person1.m4a\", \"/content/person2.m4a\")\n",
        "print(ans[0])"
      ],
      "metadata": {
        "colab": {
          "base_uri": "https://localhost:8080/"
        },
        "id": "CBjFFY3v5Zmm",
        "outputId": "3cfd819b-47cc-455a-984c-8d48f9aa3eac"
      },
      "execution_count": null,
      "outputs": [
        {
          "output_type": "stream",
          "name": "stdout",
          "text": [
            "Classifying question using Zero-Shot Classification model...\n",
            "Generating answer using Llama model via Groq API...\n",
            "Person 1: /content/person1.m4a\n",
            "Person 2: /content/person1.m4a\n"
          ]
        }
      ]
    },
    {
      "cell_type": "code",
      "source": [
        "t1 = record_person1(\"/content/person1.m4a\")\n",
        "t2 = record_person2(\"/content/person2.m4a\")\n",
        "ans = gradio_interface(t1, t2)\n",
        "print(ans[-2])\n",
        "print(ans[-1])"
      ],
      "metadata": {
        "colab": {
          "base_uri": "https://localhost:8080/"
        },
        "id": "66_5v9irOnW3",
        "outputId": "b17605c6-66ca-4953-b879-14edcb1bf14a"
      },
      "execution_count": null,
      "outputs": [
        {
          "output_type": "stream",
          "name": "stdout",
          "text": [
            "Classifying question using Zero-Shot Classification model...\n",
            "Generating answer using Llama model via Groq API...\n",
            "Error: Invalid classification returned.\n",
            "I'd be happy to simulate an interview with you. Just to make things clear, I'll be asking you questions as if I were an interviewer, and you can respond as if you were in a real interview. Don't worry, this is just a simulation, and it's okay to make mistakes - it's all about practicing and improving.\n",
            "\n",
            "To get started, can you tell me a little bit about yourself and the type of role you're looking for?\n"
          ]
        }
      ]
    },
    {
      "cell_type": "code",
      "source": [
        "with gr.Blocks() as demo:\n",
        "    gr.Markdown(\"# Speech Query Processing System\")\n",
        "\n",
        "    with gr.Row():\n",
        "        with gr.Column():\n",
        "            person1_audio = gr.Audio(type=\"filepath\", label=\"Person 1 Audio Input\")\n",
        "            person2_audio = gr.Audio(type=\"filepath\", label=\"Person 2 Audio Input\")\n",
        "            person1_record_button = gr.Button(\"Record Person 1\")\n",
        "            person2_record_button = gr.Button(\"Record Person 2\")\n",
        "            submit_button = gr.Button(\"Help Me\")\n",
        "            clear_button = gr.Button(\"Clear\")\n",
        "\n",
        "        with gr.Column():\n",
        "            person1_transcript_box = gr.Textbox(label=\"Person 1 Transcript\", lines=5)\n",
        "            person2_transcript_box = gr.Textbox(label=\"Person 2 Transcript\", lines=5)\n",
        "            transcription_box = gr.Textbox(label=\"Combined Transcription\")\n",
        "            question_box = gr.Textbox(label=\"Extracted Question\")\n",
        "            classification_box = gr.Textbox(label=\"Classification\")\n",
        "            answer_box = gr.Textbox(label=\"Final Answer\")\n",
        "\n",
        "    person1_record_button.click(\n",
        "        fn=record_person1,\n",
        "        inputs=person1_audio,\n",
        "        outputs=person1_transcript_box\n",
        "    )\n",
        "\n",
        "    person2_record_button.click(\n",
        "        fn=record_person2,\n",
        "        inputs=person2_audio,\n",
        "        outputs=person2_transcript_box\n",
        "    )\n",
        "\n",
        "    submit_button.click(\n",
        "        fn=gradio_interface,\n",
        "        inputs=[],\n",
        "        outputs=[transcription_box, question_box, classification_box, answer_box]\n",
        "    )\n",
        "\n",
        "    clear_button.click(\n",
        "        fn=clear_transcripts,\n",
        "        inputs=[],\n",
        "        outputs=[\n",
        "            person1_transcript_box,\n",
        "            person2_transcript_box,\n",
        "            transcription_box,\n",
        "            question_box,\n",
        "            classification_box,\n",
        "            answer_box,\n",
        "        ]\n",
        "    )\n",
        "\n"
      ],
      "metadata": {
        "id": "t_gtkldg_53l"
      },
      "execution_count": null,
      "outputs": []
    },
    {
      "cell_type": "code",
      "source": [
        "demo.launch()"
      ],
      "metadata": {
        "colab": {
          "base_uri": "https://localhost:8080/",
          "height": 646
        },
        "id": "xOm0qo6ChZ-a",
        "outputId": "5c982639-98e4-4f17-f4f7-7c0f3630e879"
      },
      "execution_count": null,
      "outputs": [
        {
          "output_type": "stream",
          "name": "stdout",
          "text": [
            "Running Gradio in a Colab notebook requires sharing enabled. Automatically setting `share=True` (you can turn this off by setting `share=False` in `launch()` explicitly).\n",
            "\n",
            "Colab notebook detected. To show errors in colab notebook, set debug=True in launch()\n",
            "* Running on public URL: https://63b925526963f6e32b.gradio.live\n",
            "\n",
            "This share link expires in 72 hours. For free permanent hosting and GPU upgrades, run `gradio deploy` from the terminal in the working directory to deploy to Hugging Face Spaces (https://huggingface.co/spaces)\n"
          ]
        },
        {
          "output_type": "display_data",
          "data": {
            "text/plain": [
              "<IPython.core.display.HTML object>"
            ],
            "text/html": [
              "<div><iframe src=\"https://63b925526963f6e32b.gradio.live\" width=\"100%\" height=\"500\" allow=\"autoplay; camera; microphone; clipboard-read; clipboard-write;\" frameborder=\"0\" allowfullscreen></iframe></div>"
            ]
          },
          "metadata": {}
        },
        {
          "output_type": "execute_result",
          "data": {
            "text/plain": []
          },
          "metadata": {},
          "execution_count": 105
        }
      ]
    },
    {
      "cell_type": "code",
      "source": [],
      "metadata": {
        "id": "ztFF-evQiljU"
      },
      "execution_count": null,
      "outputs": []
    }
  ]
}
